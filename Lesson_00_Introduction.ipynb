{
 "metadata": {
  "name": "",
  "signature": "sha256:a714d9e0e1357b6baca3d5dccee08469d4ded3069353ec0cb796a0a1ff611a8d"
 },
 "nbformat": 3,
 "nbformat_minor": 0,
 "worksheets": [
  {
   "cells": [
    {
     "cell_type": "code",
     "collapsed": false,
     "input": [
      "from IPython.core.display import HTML\n",
      "def css_styling():\n",
      "    styles = open(\"./styles/custom.css\", \"r\").read()\n",
      "    return HTML(styles)\n",
      "css_styling()"
     ],
     "language": "python",
     "metadata": {},
     "outputs": [
      {
       "html": [
        "<link href='http://fonts.googleapis.com/css?family=Alegreya+Sans:100,300,400,500,700,800,900,100italic,300italic,400italic,500italic,700italic,800italic,900italic' rel='stylesheet' type='text/css'>\n",
        "<link href='http://fonts.googleapis.com/css?family=Arvo:400,700,400italic' rel='stylesheet' type='text/css'>\n",
        "<link href='http://fonts.googleapis.com/css?family=PT+Mono' rel='stylesheet' type='text/css'>\n",
        "<link href='http://fonts.googleapis.com/css?family=Shadows+Into+Light' rel='stylesheet' type='text/css'>\n",
        "<link href='http://fonts.googleapis.com/css?family=Philosopher:400,700,400italic,700italic' rel='stylesheet' type='text/css'>\n",
        "\n",
        "<style>\n",
        "\n",
        "@font-face {\n",
        "    font-family: \"Computer Modern\";\n",
        "    src: url('http://mirrors.ctan.org/fonts/cm-unicode/fonts/otf/cmunss.otf');\n",
        "}\n",
        "\n",
        "#notebook_panel { /* main background */\n",
        "    background: #888;\n",
        "    color: #f6f6f6;\n",
        "}\n",
        "\n",
        "div #notebook { /* centre the content */\n",
        "    background: #fff;\n",
        "    color: #333;\n",
        "    width: 1200px;\n",
        "    margin: auto;\n",
        "    padding-left: 1em;\n",
        "    padding-right: 1em;\n",
        "    padding-top: 2ex;\n",
        "    overflow-x: auto;\n",
        "}\n",
        "\n",
        "#notebook li { /* More space between bullet points */\n",
        "margin-top:0.8em;\n",
        "}\n",
        "\n",
        "div.cell { /* set cell width to about 80 chars */\n",
        "    width: 900px;\n",
        "}\n",
        "\n",
        "div.cell.border-box-sizing.code_cell.running { \n",
        "    /* draw border around running cells */\n",
        "    border: 3px solid #111;\n",
        "}\n",
        "\n",
        "\n",
        "h1 {\n",
        "    font-family: 'Philosopher', sans-serif;\n",
        "}\n",
        "h2 {\n",
        "    font-family: 'Philosopher', serif;\n",
        "}\n",
        "h3{\n",
        "    font-family: 'Philosopher', serif;\n",
        "    font-style: 'italic';\n",
        "    margin-top:12px;\n",
        "    margin-bottom: 3px;\n",
        "}\n",
        "h4{\n",
        "    font-family: 'Philosopher', serif;\n",
        "}\n",
        "h5 {\n",
        "    font-family: 'Alegreya Sans', sans-serif;\n",
        "}\t\n",
        "h6 {\n",
        "    font-family: 'PT Mono', sans-serif;\n",
        "}\t\n",
        "\n",
        "div.text_cell_render{\n",
        "    font-family: 'Arvo' sans-serif;\n",
        "    line-height: 130%;\n",
        "    font-size: 115%;\n",
        "    width:800px;\n",
        "    margin-left:auto;\n",
        "    margin-right:auto;\n",
        "}\n",
        "\n",
        ".CodeMirror{\n",
        "        font-family: \"PT Mono\";\n",
        "                    font-size: 100%;\n",
        "            }\n",
        "\n",
        ".text_cell_render h1 {\n",
        "    font-weight: 400;\n",
        "    font-size: 64pt;\n",
        "    line-height: 100%;\n",
        "    color: rgb(12,85,97);\n",
        "    margin-bottom: 0.1em;\n",
        "    margin-top: 0.1em;\n",
        "    display: block;\n",
        "}\t\n",
        ".text_cell_render h2 {\n",
        "    font-weight: 700;\n",
        "    font-size: 24pt;\n",
        "    line-height: 100%;\n",
        "    color: rgb(171,165,131);\n",
        "    margin-bottom: 0.1em;\n",
        "    margin-top: 0.1em;\n",
        "    display: block;\n",
        "}\t\n",
        "\n",
        ".text_cell_render h3 {\n",
        "    font-style: italic;\n",
        "    color: rgb(95,92,72);\n",
        "}\n",
        "\n",
        ".text_cell_render h5 {\n",
        "    font-weight: 300;\n",
        "    font-size: 16pt;\n",
        "    color: grey;\n",
        "    font-style: italic;\n",
        "    margin-bottom: .1em;\n",
        "    margin-top: 0.1em;\n",
        "    display: block;\n",
        "}\n",
        "\n",
        ".text_cell_render h6 {\n",
        "    font-weight: 300;\n",
        "    font-size: 10pt;\n",
        "    color: grey;\n",
        "    margin-bottom: 1px;\n",
        "    margin-top: 1px;\n",
        "}\n",
        "div.cell.code_cell {  /* Group area containing both code and output */\n",
        "background-color: rgba(171,165,131,0.3); \n",
        "border-radius: 10px; /* rounded borders */\n",
        "padding: 1em;\n",
        "}\n",
        "\n",
        "</style>\n",
        "\n",
        "<script type=\"text/x-mathjax-config\">\n",
        "    MathJax.Hub.Config({\n",
        "                        TeX: {\n",
        "                           extensions: [\"AMSmath.js\"],\n",
        "                           Macros: {N : \"\\\\mathbb{N}\"}\n",
        "                           },\n",
        "                tex2jax: {\n",
        "                    inlineMath: [ ['$','$'], [\"\\\\(\",\"\\\\)\"] ],\n",
        "                    displayMath: [ ['$$','$$'], [\"\\\\[\",\"\\\\]\"] ]\n",
        "                },\n",
        "                displayAlign: 'center', // Change this to 'center' to center equations.\n",
        "                \"HTML-CSS\": {\n",
        "                    styles: {'.MathJax_Display': {margin: \"40em 40em 40em 40em\",line-height : '200%', border: '1px solid ##CC0000' } },\n",
        "                    linebreaks: {'automatic': 'true'}\n",
        "                }\n",
        "        });\n",
        "</script>\n"
       ],
       "metadata": {},
       "output_type": "pyout",
       "prompt_number": 1,
       "text": [
        "<IPython.core.display.HTML at 0x16f9dd0>"
       ]
      }
     ],
     "prompt_number": 1
    },
    {
     "cell_type": "heading",
     "level": 1,
     "metadata": {},
     "source": [
      "Riemann problems"
     ]
    },
    {
     "cell_type": "markdown",
     "metadata": {},
     "source": [
      "Many physical theories can be written in *balance law form*,\n",
      "\n",
      "\\begin{equation}\n",
      "  \\partial_t {\\bf q} + \\partial_x {\\bf f}({\\bf q}) = {\\bf s}({\\bf q}).\n",
      "\\end{equation}\n",
      "\n",
      "The standard example would be Euler's equations of gasdynamics, used to model high-speed fluid flow. However, there are a huge number of other models, from simple models of traffic flow, through acoustics, electromagnetics, nonlinear elasticity, plasma physics, and even up to Einstein's equations of general relativity."
     ]
    },
    {
     "cell_type": "markdown",
     "metadata": {},
     "source": [
      "Equations in balance law form have a number of generic properties. One of the most important is that they admit *discontinuous solutions*. This has two important effects:\n",
      "\n",
      "1. the balance law form given above makes no sense - if the solution is discontinuous then the derivative terms in the equation such as $\\partial_x {\\bf f}$ do not exist;\n",
      "2. the numerical solution of the balance law form becomes significantly more complex than if the solution were smooth."
     ]
    },
    {
     "cell_type": "markdown",
     "metadata": {},
     "source": [
      "The wide importance of balance laws means that these problems have been tackled and solved, for practical purposes, many times. This set of notebooks introduces the mathematical and numerical techniques needed to solve the simplest, but most important, discontinuous case: the **Riemann problem**."
     ]
    },
    {
     "cell_type": "heading",
     "level": 2,
     "metadata": {},
     "source": [
      "Background"
     ]
    },
    {
     "cell_type": "markdown",
     "metadata": {},
     "source": [
      "These notebooks will assume that you have both the necessary mathematical and programming background. Essentially, if you have completed David Ketcheson's [HyperPython](https://github.com/ketch/HyperPython) course then you will have both, as only simple python techniques and packages will be used."
     ]
    },
    {
     "cell_type": "markdown",
     "metadata": {},
     "source": [
      "A wide variety of books and resources have been written on Riemann problems, much of it concentrating on the Euler equations. In steadily increasing order of complexity I would recommend\n",
      "\n",
      "1. [Culbert B. Laney, \"Computational Gasdynamics\"](http://www.amazon.com/Computational-Gasdynamics-Culbert-B-Laney/dp/0521625580). Verbose and easy to read, this gives a lot of key details without getting overly complex. Concentrates on the Euler equations.\n",
      "2. [Randall J. LeVeque, \"Finite Volume Methods for Conservation Laws\"](http://www.amazon.com/Methods-Hyperbolic-Problems-Cambridge-Mathematics/dp/0521009243). Much more breadth and mathematical detail. The aim is more towards deriving the numerical methods used in Ketcheson's [HyperPython](https://github.com/ketch/HyperPython) course than on the Riemann problem explicitly, but a detailed derivation of key results for the shallow water equations is there.\n",
      "3. [Eleuterio F. Toro, \"Riemann Solvers and Numerical Methods for Fluid Dynamics: a practical introduction](http://www.amazon.com/Riemann-Solvers-Numerical-Methods-Dynamics/dp/3642064388). A hugely detailed book on Riemann problems, focusing on the Euler equations, and the links to numerical methods. Comprehensive and repays re-reading, but not straightforward.\n",
      "4. [Philippe G. LeFloch, \"Hyperbolic Systems of Conservation Laws: The Theory of Classical and Nonclassical Shock Waves\"](http://www.amazon.com/Hyperbolic-Systems-Conservation-Laws-Nonclassical/dp/3764366877). Detailed mathematical theory both for the standard systems, but also covering what happens when the theory gets more complex (e.g. at phase transitions).\n",
      "5. [Alexander Voss, \"Exact Riemann Solution for the Euler Equations with Nonconvex and Nonsmooth Equation of State\" ](http://134.130.184.8/opus/volltexte/2005/1210/) (PhD thesis). A detailed explanation of how to solve generic Riemann problems, even when the system gets more complex."
     ]
    }
   ],
   "metadata": {}
  }
 ]
}