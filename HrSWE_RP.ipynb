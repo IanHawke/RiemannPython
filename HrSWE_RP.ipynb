{
 "cells": [
  {
   "cell_type": "markdown",
   "metadata": {},
   "source": [
    "# Relativistic Shallow Water Equations"
   ]
  },
  {
   "cell_type": "markdown",
   "metadata": {},
   "source": [
    "The Harpole Relativistic Shallow Water Equations (HrSWE) are (in one dimensional form, suitable for the Riemann Problem)\n",
    "$$\n",
    "  \\partial_t \\begin{pmatrix} \\Phi W \\\\ \\Phi W^2 u_j \\end{pmatrix} + \\partial_x \\begin{pmatrix} \\Phi W u^i \\\\ \\Phi W^2 u_j u^i + \\tfrac{1}{2} \\Phi^2 \\delta^i_j \\end{pmatrix} = {\\bf 0}.\n",
    "$$\n",
    "This can also be written\n",
    "$$\n",
    "  \\partial_t \\begin{pmatrix} D \\\\ S_j \\end{pmatrix} + \\partial_x \\begin{pmatrix} D u^i \\\\ S_j u^i + \\frac{D^2}{2 W^2} \\delta^i_j \\end{pmatrix} = {\\bf 0}.\n",
    "$$\n",
    "Remember that $W^{-2} = 1 - u_j u^j$."
   ]
  },
  {
   "cell_type": "markdown",
   "metadata": {},
   "source": [
    "We will assume one dimensional motion and a plane or spherical background, so we only need $g_{xx} = 1 = g^{xx}$. Using\n",
    "$$\n",
    "  \\frac{S^2}{D^2} = W^2 u^2\n",
    "$$\n",
    "we get\n",
    "$$\n",
    "  u^2 = \\frac{S^2}{S^2 + D^2}\n",
    "$$\n",
    "and hence\n",
    "$$\n",
    "  W^{-2} = \\frac{D^2}{S^2 + D^2}\n",
    "$$\n",
    "with $u_j = S_j / (D W)$ following."
   ]
  },
  {
   "cell_type": "markdown",
   "metadata": {},
   "source": [
    "We now drop the ${}_j$ subscript, as we are working in one dimension, and start working out the Jacobian."
   ]
  },
  {
   "cell_type": "code",
   "execution_count": 1,
   "metadata": {},
   "outputs": [],
   "source": [
    "import sympy\n",
    "sympy.init_printing()"
   ]
  },
  {
   "cell_type": "code",
   "execution_count": 2,
   "metadata": {},
   "outputs": [
    {
     "data": {
      "image/png": "[encoded data removed]",
      "text/latex": [
       "$$\\left [ - \\frac{\\sqrt{\\Phi}}{2} \\left(v - 1\\right) \\left(v + 1\\right) \\sqrt{\\Phi v^{2} + 4} + \\frac{v}{2} \\left(\\Phi v^{2} - \\Phi + 2\\right), \\quad \\frac{\\sqrt{\\Phi}}{2} \\left(v - 1\\right) \\left(v + 1\\right) \\sqrt{\\Phi v^{2} + 4} + \\frac{v}{2} \\left(\\Phi v^{2} - \\Phi + 2\\right)\\right ]$$"
      ],
      "text/plain": [
       "⎡                        __________                                           \n",
       "⎢                       ╱    2          ⎛   2        ⎞                       ╱\n",
       "⎢  √Φ⋅(v - 1)⋅(v + 1)⋅╲╱  Φ⋅v  + 4    v⋅⎝Φ⋅v  - Φ + 2⎠  √Φ⋅(v - 1)⋅(v + 1)⋅╲╱ \n",
       "⎢- ──────────────────────────────── + ────────────────, ──────────────────────\n",
       "⎣                 2                          2                         2      \n",
       "\n",
       "__________                   ⎤\n",
       "    2          ⎛   2        ⎞⎥\n",
       " Φ⋅v  + 4    v⋅⎝Φ⋅v  - Φ + 2⎠⎥\n",
       "────────── + ────────────────⎥\n",
       "                    2        ⎦"
      ]
     },
     "execution_count": 2,
     "metadata": {},
     "output_type": "execute_result"
    }
   ],
   "source": [
    "phi = sympy.symbols('Phi', positive=True)\n",
    "v = sympy.symbols('v')\n",
    "W = 1 / sympy.sqrt(1 - v**2)\n",
    "D = phi * W\n",
    "S = phi * W**2 * v\n",
    "fD = D * v\n",
    "fS = S * v + phi**2 / 2\n",
    "\n",
    "q = sympy.Matrix([D, S])\n",
    "w = [phi, v]\n",
    "dqdw = q.jacobian(w)\n",
    "flux = sympy.Matrix([fD, fS])\n",
    "dfdw = flux.jacobian(w)\n",
    "J = dqdw.inv()*dfdw\n",
    "\n",
    "evals = list(J.eigenvals().keys())\n",
    "evals"
   ]
  },
  {
   "cell_type": "markdown",
   "metadata": {},
   "source": [
    "We see that the eigenvalues are messy, compared to the Newtonian limit. Let's check that in the Newtonian limit ($\\Phi$ *and* $v$ small) we get the expected result:"
   ]
  },
  {
   "cell_type": "code",
   "execution_count": 3,
   "metadata": {},
   "outputs": [
    {
     "data": {
      "image/png": "[encoded data removed]",
      "text/latex": [
       "$$\\left [ \\sqrt{\\Phi} + v, \\quad - \\sqrt{\\Phi} + v\\right ]$$"
      ],
      "text/plain": [
       "[√Φ + v, -√Φ + v]"
      ]
     },
     "execution_count": 3,
     "metadata": {},
     "output_type": "execute_result"
    }
   ],
   "source": [
    "evals_Newtonian = evals.copy()\n",
    "for i, e in enumerate(evals_Newtonian):\n",
    "    evals_Newtonian[i] = e.series(v, 0, 2).removeO().series(phi, 0, 1).removeO()\n",
    "evals_Newtonian"
   ]
  },
  {
   "cell_type": "markdown",
   "metadata": {},
   "source": [
    "We also check that the \"acoustic\" speed is the same in the relativistic case:"
   ]
  },
  {
   "cell_type": "code",
   "execution_count": 4,
   "metadata": {},
   "outputs": [
    {
     "data": {
      "image/png": "[encoded data removed]",
      "text/latex": [
       "$$\\left [ \\sqrt{\\Phi}, \\quad - \\sqrt{\\Phi}\\right ]$$"
      ],
      "text/plain": [
       "[√Φ, -√Φ]"
      ]
     },
     "execution_count": 4,
     "metadata": {},
     "output_type": "execute_result"
    }
   ],
   "source": [
    "evals_v_zero = evals.copy()\n",
    "for i, e in enumerate(evals_v_zero):\n",
    "    evals_v_zero[i] = e.subs(v, 0).simplify()\n",
    "evals_v_zero"
   ]
  },
  {
   "cell_type": "markdown",
   "metadata": {},
   "source": [
    "So the advective and acoustic wavespeeds have the same interpretation: however, the relativistic addition of the $v$ and $\\sqrt{\\phi}$ parts complicates the full nonlinear wavespeeds."
   ]
  },
  {
   "cell_type": "markdown",
   "metadata": {},
   "source": [
    "We will need the eigenvalues later in code form. Let us create functions for them:"
   ]
  },
  {
   "cell_type": "code",
   "execution_count": 5,
   "metadata": {},
   "outputs": [],
   "source": [
    "import numpy\n",
    "evals_m_sp = sympy.lambdify((phi, v), evals[1], modules='numpy')\n",
    "evals_p_sp = sympy.lambdify((phi, v), evals[0], modules='numpy')"
   ]
  },
  {
   "cell_type": "markdown",
   "metadata": {},
   "source": [
    "We also need the equation for the primitive variables across the rarefaction wave. We note that\n",
    "$$\n",
    "  \\frac{\\partial}{\\partial \\xi} \\left( \\begin{pmatrix} \\Phi \\\\ u \\end{pmatrix} \\right) = \\frac{ {\\bf r} }{ \\nabla_{\\bf w} \\lambda \\cdot {\\bf r} }\n",
    "$$\n",
    "where $\\lambda, {\\bf r}$ are the appropriate eigenvalue and right eigenvector for this wave (either associated with the positive or negative sign) and ${\\bf w} = (\\Phi, v)^T$ are the primitive variables.\n",
    "\n",
    "Later on we are going to solve across the wave up to a given value of $\\Phi$. *In this case*, as the system has size $2$, we can rewrite the equation as\n",
    "$$\n",
    "  \\frac{\\partial u}{\\partial \\Phi} = \\frac{\\partial u}{\\partial \\xi} \\left( \\frac{\\partial u}{\\partial \\xi} \\right)^{-1}.\n",
    "$$\n",
    "\n",
    "Let's compute this:"
   ]
  },
  {
   "cell_type": "code",
   "execution_count": 6,
   "metadata": {},
   "outputs": [
    {
     "data": {
      "image/png": "[encoded data removed]",
      "text/latex": [
       "$$\\left [ \\left ( - \\frac{\\sqrt{\\Phi}}{2} \\left(v - 1\\right) \\left(v + 1\\right) \\sqrt{\\Phi v^{2} + 4} + \\frac{v}{2} \\left(\\Phi v^{2} - \\Phi + 2\\right), \\quad 1, \\quad \\left [ \\left[\\begin{matrix}- \\frac{- \\frac{\\Phi v \\left(\\frac{2 \\Phi v^{3}}{\\left(- v^{2} + 1\\right)^{2}} + \\frac{2 \\Phi v}{- v^{2} + 1}\\right)}{\\left(- v^{2} + 1\\right)^{\\frac{3}{2}} \\left(- \\frac{\\Phi v^{2}}{\\left(- v^{2} + 1\\right)^{\\frac{5}{2}}} + \\frac{1}{\\sqrt{- v^{2} + 1}} \\left(\\frac{2 \\Phi v^{2}}{\\left(- v^{2} + 1\\right)^{2}} + \\frac{\\Phi}{- v^{2} + 1}\\right)\\right)} + \\frac{\\left(\\frac{2 \\Phi v^{2}}{\\left(- v^{2} + 1\\right)^{2}} + \\frac{\\Phi}{- v^{2} + 1}\\right) \\left(\\frac{\\Phi v^{2}}{\\left(- v^{2} + 1\\right)^{\\frac{3}{2}}} + \\frac{\\Phi}{\\sqrt{- v^{2} + 1}}\\right)}{- \\frac{\\Phi v^{2}}{\\left(- v^{2} + 1\\right)^{\\frac{5}{2}}} + \\frac{1}{\\sqrt{- v^{2} + 1}} \\left(\\frac{2 \\Phi v^{2}}{\\left(- v^{2} + 1\\right)^{2}} + \\frac{\\Phi}{- v^{2} + 1}\\right)}}{\\frac{\\sqrt{\\Phi}}{2} \\left(v - 1\\right) \\left(v + 1\\right) \\sqrt{\\Phi v^{2} + 4} - \\frac{\\Phi v \\left(\\Phi + \\frac{v^{2}}{- v^{2} + 1}\\right)}{\\left(- v^{2} + 1\\right)^{\\frac{3}{2}} \\left(- \\frac{\\Phi v^{2}}{\\left(- v^{2} + 1\\right)^{\\frac{5}{2}}} + \\frac{1}{\\sqrt{- v^{2} + 1}} \\left(\\frac{2 \\Phi v^{2}}{\\left(- v^{2} + 1\\right)^{2}} + \\frac{\\Phi}{- v^{2} + 1}\\right)\\right)} - \\frac{v}{2} \\left(\\Phi v^{2} - \\Phi + 2\\right) + \\frac{v \\left(\\frac{2 \\Phi v^{2}}{\\left(- v^{2} + 1\\right)^{2}} + \\frac{\\Phi}{- v^{2} + 1}\\right)}{\\sqrt{- v^{2} + 1} \\left(- \\frac{\\Phi v^{2}}{\\left(- v^{2} + 1\\right)^{\\frac{5}{2}}} + \\frac{1}{\\sqrt{- v^{2} + 1}} \\left(\\frac{2 \\Phi v^{2}}{\\left(- v^{2} + 1\\right)^{2}} + \\frac{\\Phi}{- v^{2} + 1}\\right)\\right)}}\\\\1\\end{matrix}\\right]\\right ]\\right ), \\quad \\left ( \\frac{\\sqrt{\\Phi}}{2} \\left(v - 1\\right) \\left(v + 1\\right) \\sqrt{\\Phi v^{2} + 4} + \\frac{v}{2} \\left(\\Phi v^{2} - \\Phi + 2\\right), \\quad 1, \\quad \\left [ \\left[\\begin{matrix}- \\frac{- \\frac{\\Phi v \\left(\\frac{2 \\Phi v^{3}}{\\left(- v^{2} + 1\\right)^{2}} + \\frac{2 \\Phi v}{- v^{2} + 1}\\right)}{\\left(- v^{2} + 1\\right)^{\\frac{3}{2}} \\left(- \\frac{\\Phi v^{2}}{\\left(- v^{2} + 1\\right)^{\\frac{5}{2}}} + \\frac{1}{\\sqrt{- v^{2} + 1}} \\left(\\frac{2 \\Phi v^{2}}{\\left(- v^{2} + 1\\right)^{2}} + \\frac{\\Phi}{- v^{2} + 1}\\right)\\right)} + \\frac{\\left(\\frac{2 \\Phi v^{2}}{\\left(- v^{2} + 1\\right)^{2}} + \\frac{\\Phi}{- v^{2} + 1}\\right) \\left(\\frac{\\Phi v^{2}}{\\left(- v^{2} + 1\\right)^{\\frac{3}{2}}} + \\frac{\\Phi}{\\sqrt{- v^{2} + 1}}\\right)}{- \\frac{\\Phi v^{2}}{\\left(- v^{2} + 1\\right)^{\\frac{5}{2}}} + \\frac{1}{\\sqrt{- v^{2} + 1}} \\left(\\frac{2 \\Phi v^{2}}{\\left(- v^{2} + 1\\right)^{2}} + \\frac{\\Phi}{- v^{2} + 1}\\right)}}{- \\frac{\\sqrt{\\Phi}}{2} \\left(v - 1\\right) \\left(v + 1\\right) \\sqrt{\\Phi v^{2} + 4} - \\frac{\\Phi v \\left(\\Phi + \\frac{v^{2}}{- v^{2} + 1}\\right)}{\\left(- v^{2} + 1\\right)^{\\frac{3}{2}} \\left(- \\frac{\\Phi v^{2}}{\\left(- v^{2} + 1\\right)^{\\frac{5}{2}}} + \\frac{1}{\\sqrt{- v^{2} + 1}} \\left(\\frac{2 \\Phi v^{2}}{\\left(- v^{2} + 1\\right)^{2}} + \\frac{\\Phi}{- v^{2} + 1}\\right)\\right)} - \\frac{v}{2} \\left(\\Phi v^{2} - \\Phi + 2\\right) + \\frac{v \\left(\\frac{2 \\Phi v^{2}}{\\left(- v^{2} + 1\\right)^{2}} + \\frac{\\Phi}{- v^{2} + 1}\\right)}{\\sqrt{- v^{2} + 1} \\left(- \\frac{\\Phi v^{2}}{\\left(- v^{2} + 1\\right)^{\\frac{5}{2}}} + \\frac{1}{\\sqrt{- v^{2} + 1}} \\left(\\frac{2 \\Phi v^{2}}{\\left(- v^{2} + 1\\right)^{2}} + \\frac{\\Phi}{- v^{2} + 1}\\right)\\right)}}\\\\1\\end{matrix}\\right]\\right ]\\right )\\right ]$$"
      ],
      "text/plain": [
       "⎡⎛                                                          ⎡⎡                \n",
       "⎢⎜                                                          ⎢⎢                \n",
       "⎢⎜                                                          ⎢⎢                \n",
       "⎢⎜                                                          ⎢⎢                \n",
       "⎢⎜                                                          ⎢⎢                \n",
       "⎢⎜                                                          ⎢⎢                \n",
       "⎢⎜                                                          ⎢⎢                \n",
       "⎢⎜                                                          ⎢⎢                \n",
       "⎢⎜                                                          ⎢⎢                \n",
       "⎢⎜                                                          ⎢⎢                \n",
       "⎢⎜                                                          ⎢⎢                \n",
       "⎢⎜                                                          ⎢⎢                \n",
       "⎢⎜                                                          ⎢⎢                \n",
       "⎢⎜                                                          ⎢⎢                \n",
       "⎢⎜                                                          ⎢⎢                \n",
       "⎢⎜                        __________                        ⎢⎢                \n",
       "⎢⎜                       ╱    2          ⎛   2        ⎞     ⎢⎢                \n",
       "⎢⎜  √Φ⋅(v - 1)⋅(v + 1)⋅╲╱  Φ⋅v  + 4    v⋅⎝Φ⋅v  - Φ + 2⎠     ⎢⎢────────────────\n",
       "⎢⎜- ──────────────────────────────── + ────────────────, 1, ⎢⎢                \n",
       "⎢⎜                 2                          2             ⎢⎢                \n",
       "⎢⎜                                                          ⎢⎢                \n",
       "⎢⎜                                                          ⎢⎢                \n",
       "⎢⎜                                                          ⎢⎢                \n",
       "⎢⎜                                                          ⎢⎢√Φ⋅(v - 1)⋅(v + \n",
       "⎢⎜                                                          ⎢⎢────────────────\n",
       "⎢⎜                                                          ⎢⎢               2\n",
       "⎢⎜                                                          ⎢⎢                \n",
       "⎢⎜                                                          ⎢⎢                \n",
       "⎢⎜                                                          ⎢⎢                \n",
       "⎢⎜                                                          ⎢⎢                \n",
       "⎢⎜                                                          ⎢⎢                \n",
       "⎢⎜                                                          ⎢⎢                \n",
       "⎢⎜                                                          ⎢⎢                \n",
       "⎢⎜                                                          ⎢⎢                \n",
       "⎢⎜                                                          ⎢⎢                \n",
       "⎢⎜                                                          ⎢⎢                \n",
       "⎣⎝                                                          ⎣⎣                \n",
       "\n",
       "         ⎛                    ⎛        3             ⎞                 ⎛      \n",
       "         ⎜                    ⎜   2⋅Φ⋅v       2⋅Φ⋅v  ⎟                 ⎜   2⋅Φ\n",
       "         ⎜                Φ⋅v⋅⎜─────────── + ────────⎟                 ⎜──────\n",
       "         ⎜                    ⎜          2      2    ⎟                 ⎜      \n",
       "         ⎜                    ⎜⎛   2    ⎞    - v  + 1⎟                 ⎜⎛   2 \n",
       "         ⎜                    ⎝⎝- v  + 1⎠            ⎠                 ⎝⎝- v  \n",
       "        -⎜- ──────────────────────────────────────────────────────── + ───────\n",
       "         ⎜                ⎛                          2             ⎞          \n",
       "         ⎜                ⎜                     2⋅Φ⋅v         Φ    ⎟          \n",
       "         ⎜                ⎜                  ─────────── + ────────⎟          \n",
       "         ⎜                ⎜                            2      2    ⎟          \n",
       "         ⎜            3/2 ⎜          2       ⎛   2    ⎞    - v  + 1⎟          \n",
       "         ⎜  ⎛   2    ⎞    ⎜       Φ⋅v        ⎝- v  + 1⎠            ⎟          \n",
       "         ⎜  ⎝- v  + 1⎠   ⋅⎜- ───────────── + ──────────────────────⎟          \n",
       "         ⎜                ⎜            5/2          __________     ⎟          \n",
       "         ⎜                ⎜  ⎛   2    ⎞            ╱    2          ⎟          \n",
       "         ⎝                ⎝  ⎝- v  + 1⎠          ╲╱  - v  + 1      ⎠          \n",
       "──────────────────────────────────────────────────────────────────────────────\n",
       "                                                                              \n",
       "                                          ⎛        2   ⎞                      \n",
       "                                          ⎜       v    ⎟                      \n",
       "      __________                      Φ⋅v⋅⎜Φ + ────────⎟                      \n",
       "     ╱    2                               ⎜       2    ⎟                      \n",
       "1)⋅╲╱  Φ⋅v  + 4                           ⎝    - v  + 1⎠                      \n",
       "──────────────── - ──────────────────────────────────────────────────────── - \n",
       "                                 ⎛                          2             ⎞   \n",
       "                                 ⎜                     2⋅Φ⋅v         Φ    ⎟   \n",
       "                                 ⎜                  ─────────── + ────────⎟   \n",
       "                                 ⎜                            2      2    ⎟   \n",
       "                             3/2 ⎜          2       ⎛   2    ⎞    - v  + 1⎟   \n",
       "                   ⎛   2    ⎞    ⎜       Φ⋅v        ⎝- v  + 1⎠            ⎟   \n",
       "                   ⎝- v  + 1⎠   ⋅⎜- ───────────── + ──────────────────────⎟   \n",
       "                                 ⎜            5/2          __________     ⎟   \n",
       "                                 ⎜  ⎛   2    ⎞            ╱    2          ⎟   \n",
       "                                 ⎝  ⎝- v  + 1⎠          ╲╱  - v  + 1      ⎠   \n",
       "                                                                              \n",
       "                                                                    1         \n",
       "\n",
       "  2             ⎞ ⎛        2                    ⎞⎞                         ⎤⎤⎞\n",
       "⋅v         Φ    ⎟ ⎜     Φ⋅v              Φ      ⎟⎟                         ⎥⎥⎟\n",
       "───── + ────────⎟⋅⎜───────────── + ─────────────⎟⎟                         ⎥⎥⎟\n",
       "    2      2    ⎟ ⎜          3/2      __________⎟⎟                         ⎥⎥⎟\n",
       "   ⎞    - v  + 1⎟ ⎜⎛   2    ⎞        ╱    2     ⎟⎟                         ⎥⎥⎟\n",
       "+ 1⎠            ⎠ ⎝⎝- v  + 1⎠      ╲╱  - v  + 1 ⎠⎟                         ⎥⎥⎟\n",
       "─────────────────────────────────────────────────⎟                         ⎥⎥⎟\n",
       "                           2                     ⎟                         ⎥⎥⎟\n",
       "                      2⋅Φ⋅v         Φ            ⎟                         ⎥⎥⎟\n",
       "                   ─────────── + ────────        ⎟                         ⎥⎥⎟\n",
       "                             2      2            ⎟                         ⎥⎥⎟\n",
       "           2       ⎛   2    ⎞    - v  + 1        ⎟                         ⎥⎥⎟\n",
       "        Φ⋅v        ⎝- v  + 1⎠                    ⎟                         ⎥⎥⎟\n",
       " - ───────────── + ──────────────────────        ⎟                         ⎥⎥⎟\n",
       "             5/2          __________             ⎟                         ⎥⎥⎟\n",
       "   ⎛   2    ⎞            ╱    2                  ⎟                         ⎥⎥⎟\n",
       "   ⎝- v  + 1⎠          ╲╱  - v  + 1              ⎠                         ⎥⎥⎟\n",
       "───────────────────────────────────────────────────────────────────────────⎥⎥⎟\n",
       "                                    ⎛        2             ⎞               ⎥⎥⎟\n",
       "                                    ⎜   2⋅Φ⋅v         Φ    ⎟               ⎥⎥⎟\n",
       "                                  v⋅⎜─────────── + ────────⎟               ⎥⎥⎟\n",
       "                                    ⎜          2      2    ⎟               ⎥⎥⎟\n",
       "  ⎛   2        ⎞                    ⎜⎛   2    ⎞    - v  + 1⎟               ⎥⎥⎟\n",
       "v⋅⎝Φ⋅v  - Φ + 2⎠                    ⎝⎝- v  + 1⎠            ⎠               ⎥⎥⎟\n",
       "──────────────── + ────────────────────────────────────────────────────────⎥⎥⎟\n",
       "       2                         ⎛                          2             ⎞⎥⎥⎟\n",
       "                                 ⎜                     2⋅Φ⋅v         Φ    ⎟⎥⎥⎟\n",
       "                                 ⎜                  ─────────── + ────────⎟⎥⎥⎟\n",
       "                                 ⎜                            2      2    ⎟⎥⎥⎟\n",
       "                      __________ ⎜          2       ⎛   2    ⎞    - v  + 1⎟⎥⎥⎟\n",
       "                     ╱    2      ⎜       Φ⋅v        ⎝- v  + 1⎠            ⎟⎥⎥⎟\n",
       "                   ╲╱  - v  + 1 ⋅⎜- ───────────── + ──────────────────────⎟⎥⎥⎟\n",
       "                                 ⎜            5/2          __________     ⎟⎥⎥⎟\n",
       "                                 ⎜  ⎛   2    ⎞            ╱    2          ⎟⎥⎥⎟\n",
       "                                 ⎝  ⎝- v  + 1⎠          ╲╱  - v  + 1      ⎠⎥⎥⎟\n",
       "                                                                           ⎥⎥⎟\n",
       "                                                                           ⎦⎦⎠\n",
       "\n",
       "  ⎛                                                        ⎡⎡                 \n",
       "  ⎜                                                        ⎢⎢                 \n",
       "  ⎜                                                        ⎢⎢                 \n",
       "  ⎜                                                        ⎢⎢                 \n",
       "  ⎜                                                        ⎢⎢                 \n",
       "  ⎜                                                        ⎢⎢                 \n",
       "  ⎜                                                        ⎢⎢                 \n",
       "  ⎜                                                        ⎢⎢                 \n",
       "  ⎜                                                        ⎢⎢                 \n",
       "  ⎜                                                        ⎢⎢                 \n",
       "  ⎜                                                        ⎢⎢                 \n",
       "  ⎜                                                        ⎢⎢                 \n",
       "  ⎜                                                        ⎢⎢                 \n",
       "  ⎜                                                        ⎢⎢                 \n",
       "  ⎜                                                        ⎢⎢                 \n",
       "  ⎜                      __________                        ⎢⎢                 \n",
       "  ⎜                     ╱    2          ⎛   2        ⎞     ⎢⎢                 \n",
       "  ⎜√Φ⋅(v - 1)⋅(v + 1)⋅╲╱  Φ⋅v  + 4    v⋅⎝Φ⋅v  - Φ + 2⎠     ⎢⎢─────────────────\n",
       ", ⎜──────────────────────────────── + ────────────────, 1, ⎢⎢                 \n",
       "  ⎜               2                          2             ⎢⎢                 \n",
       "  ⎜                                                        ⎢⎢                 \n",
       "  ⎜                                                        ⎢⎢                 \n",
       "  ⎜                                                        ⎢⎢                 \n",
       "  ⎜                                                        ⎢⎢  √Φ⋅(v - 1)⋅(v +\n",
       "  ⎜                                                        ⎢⎢- ───────────────\n",
       "  ⎜                                                        ⎢⎢                 \n",
       "  ⎜                                                        ⎢⎢                 \n",
       "  ⎜                                                        ⎢⎢                 \n",
       "  ⎜                                                        ⎢⎢                 \n",
       "  ⎜                                                        ⎢⎢                 \n",
       "  ⎜                                                        ⎢⎢                 \n",
       "  ⎜                                                        ⎢⎢                 \n",
       "  ⎜                                                        ⎢⎢                 \n",
       "  ⎜                                                        ⎢⎢                 \n",
       "  ⎜                                                        ⎢⎢                 \n",
       "  ⎜                                                        ⎢⎢                 \n",
       "  ⎝                                                        ⎣⎣                 \n",
       "\n",
       "         ⎛                    ⎛        3             ⎞                 ⎛      \n",
       "         ⎜                    ⎜   2⋅Φ⋅v       2⋅Φ⋅v  ⎟                 ⎜   2⋅Φ\n",
       "         ⎜                Φ⋅v⋅⎜─────────── + ────────⎟                 ⎜──────\n",
       "         ⎜                    ⎜          2      2    ⎟                 ⎜      \n",
       "         ⎜                    ⎜⎛   2    ⎞    - v  + 1⎟                 ⎜⎛   2 \n",
       "         ⎜                    ⎝⎝- v  + 1⎠            ⎠                 ⎝⎝- v  \n",
       "        -⎜- ──────────────────────────────────────────────────────── + ───────\n",
       "         ⎜                ⎛                          2             ⎞          \n",
       "         ⎜                ⎜                     2⋅Φ⋅v         Φ    ⎟          \n",
       "         ⎜                ⎜                  ─────────── + ────────⎟          \n",
       "         ⎜                ⎜                            2      2    ⎟          \n",
       "         ⎜            3/2 ⎜          2       ⎛   2    ⎞    - v  + 1⎟          \n",
       "         ⎜  ⎛   2    ⎞    ⎜       Φ⋅v        ⎝- v  + 1⎠            ⎟          \n",
       "         ⎜  ⎝- v  + 1⎠   ⋅⎜- ───────────── + ──────────────────────⎟          \n",
       "         ⎜                ⎜            5/2          __________     ⎟          \n",
       "         ⎜                ⎜  ⎛   2    ⎞            ╱    2          ⎟          \n",
       "         ⎝                ⎝  ⎝- v  + 1⎠          ╲╱  - v  + 1      ⎠          \n",
       "──────────────────────────────────────────────────────────────────────────────\n",
       "                                                                              \n",
       "                                           ⎛        2   ⎞                     \n",
       "                                           ⎜       v    ⎟                     \n",
       "       __________                      Φ⋅v⋅⎜Φ + ────────⎟                     \n",
       "      ╱    2                               ⎜       2    ⎟                     \n",
       " 1)⋅╲╱  Φ⋅v  + 4                           ⎝    - v  + 1⎠                     \n",
       "───────────────── - ──────────────────────────────────────────────────────── -\n",
       "2                                 ⎛                          2             ⎞  \n",
       "                                  ⎜                     2⋅Φ⋅v         Φ    ⎟  \n",
       "                                  ⎜                  ─────────── + ────────⎟  \n",
       "                                  ⎜                            2      2    ⎟  \n",
       "                              3/2 ⎜          2       ⎛   2    ⎞    - v  + 1⎟  \n",
       "                    ⎛   2    ⎞    ⎜       Φ⋅v        ⎝- v  + 1⎠            ⎟  \n",
       "                    ⎝- v  + 1⎠   ⋅⎜- ───────────── + ──────────────────────⎟  \n",
       "                                  ⎜            5/2          __________     ⎟  \n",
       "                                  ⎜  ⎛   2    ⎞            ╱    2          ⎟  \n",
       "                                  ⎝  ⎝- v  + 1⎠          ╲╱  - v  + 1      ⎠  \n",
       "                                                                              \n",
       "                                                                    1         \n",
       "\n",
       "  2             ⎞ ⎛        2                    ⎞⎞                          ⎤⎤\n",
       "⋅v         Φ    ⎟ ⎜     Φ⋅v              Φ      ⎟⎟                          ⎥⎥\n",
       "───── + ────────⎟⋅⎜───────────── + ─────────────⎟⎟                          ⎥⎥\n",
       "    2      2    ⎟ ⎜          3/2      __________⎟⎟                          ⎥⎥\n",
       "   ⎞    - v  + 1⎟ ⎜⎛   2    ⎞        ╱    2     ⎟⎟                          ⎥⎥\n",
       "+ 1⎠            ⎠ ⎝⎝- v  + 1⎠      ╲╱  - v  + 1 ⎠⎟                          ⎥⎥\n",
       "─────────────────────────────────────────────────⎟                          ⎥⎥\n",
       "                           2                     ⎟                          ⎥⎥\n",
       "                      2⋅Φ⋅v         Φ            ⎟                          ⎥⎥\n",
       "                   ─────────── + ────────        ⎟                          ⎥⎥\n",
       "                             2      2            ⎟                          ⎥⎥\n",
       "           2       ⎛   2    ⎞    - v  + 1        ⎟                          ⎥⎥\n",
       "        Φ⋅v        ⎝- v  + 1⎠                    ⎟                          ⎥⎥\n",
       " - ───────────── + ──────────────────────        ⎟                          ⎥⎥\n",
       "             5/2          __________             ⎟                          ⎥⎥\n",
       "   ⎛   2    ⎞            ╱    2                  ⎟                          ⎥⎥\n",
       "   ⎝- v  + 1⎠          ╲╱  - v  + 1              ⎠                          ⎥⎥\n",
       "────────────────────────────────────────────────────────────────────────────⎥⎥\n",
       "                                     ⎛        2             ⎞               ⎥⎥\n",
       "                                     ⎜   2⋅Φ⋅v         Φ    ⎟               ⎥⎥\n",
       "                                   v⋅⎜─────────── + ────────⎟               ⎥⎥\n",
       "                                     ⎜          2      2    ⎟               ⎥⎥\n",
       "   ⎛   2        ⎞                    ⎜⎛   2    ⎞    - v  + 1⎟               ⎥⎥\n",
       " v⋅⎝Φ⋅v  - Φ + 2⎠                    ⎝⎝- v  + 1⎠            ⎠               ⎥⎥\n",
       " ──────────────── + ────────────────────────────────────────────────────────⎥⎥\n",
       "        2                         ⎛                          2             ⎞⎥⎥\n",
       "                                  ⎜                     2⋅Φ⋅v         Φ    ⎟⎥⎥\n",
       "                                  ⎜                  ─────────── + ────────⎟⎥⎥\n",
       "                                  ⎜                            2      2    ⎟⎥⎥\n",
       "                       __________ ⎜          2       ⎛   2    ⎞    - v  + 1⎟⎥⎥\n",
       "                      ╱    2      ⎜       Φ⋅v        ⎝- v  + 1⎠            ⎟⎥⎥\n",
       "                    ╲╱  - v  + 1 ⋅⎜- ───────────── + ──────────────────────⎟⎥⎥\n",
       "                                  ⎜            5/2          __________     ⎟⎥⎥\n",
       "                                  ⎜  ⎛   2    ⎞            ╱    2          ⎟⎥⎥\n",
       "                                  ⎝  ⎝- v  + 1⎠          ╲╱  - v  + 1      ⎠⎥⎥\n",
       "                                                                            ⎥⎥\n",
       "                                                                            ⎦⎦\n",
       "\n",
       "⎞⎤\n",
       "⎟⎥\n",
       "⎟⎥\n",
       "⎟⎥\n",
       "⎟⎥\n",
       "⎟⎥\n",
       "⎟⎥\n",
       "⎟⎥\n",
       "⎟⎥\n",
       "⎟⎥\n",
       "⎟⎥\n",
       "⎟⎥\n",
       "⎟⎥\n",
       "⎟⎥\n",
       "⎟⎥\n",
       "⎟⎥\n",
       "⎟⎥\n",
       "⎟⎥\n",
       "⎟⎥\n",
       "⎟⎥\n",
       "⎟⎥\n",
       "⎟⎥\n",
       "⎟⎥\n",
       "⎟⎥\n",
       "⎟⎥\n",
       "⎟⎥\n",
       "⎟⎥\n",
       "⎟⎥\n",
       "⎟⎥\n",
       "⎟⎥\n",
       "⎟⎥\n",
       "⎟⎥\n",
       "⎟⎥\n",
       "⎟⎥\n",
       "⎟⎥\n",
       "⎟⎥\n",
       "⎠⎦"
      ]
     },
     "execution_count": 6,
     "metadata": {},
     "output_type": "execute_result"
    }
   ],
   "source": [
    "evecs = J.eigenvects()\n",
    "evecs"
   ]
  },
  {
   "cell_type": "markdown",
   "metadata": {},
   "source": [
    "The order may not match the eigenvalues previously computed, so we re-do the eigenvalues using slightly changed notation:"
   ]
  },
  {
   "cell_type": "code",
   "execution_count": 7,
   "metadata": {},
   "outputs": [],
   "source": [
    "lam_m = evecs[1][0]\n",
    "lam_p = evecs[0][0]\n",
    "r_m = sympy.Matrix(evecs[1][2][0])\n",
    "r_p = sympy.Matrix(evecs[0][2][0])\n",
    "\n",
    "divisor_m = sympy.Matrix([lam_m]).jacobian(w).dot(r_m)\n",
    "rhs_m = r_m / divisor_m.simplify()\n",
    "rhs_single_m = (rhs_m[1] / rhs_m[0]).simplify()\n",
    "\n",
    "divisor_p = sympy.Matrix([lam_p]).jacobian(w).dot(r_p)\n",
    "rhs_p = r_p / divisor_p.simplify()\n",
    "rhs_single_p = (rhs_p[1] / rhs_p[0]).simplify()"
   ]
  },
  {
   "cell_type": "code",
   "execution_count": 8,
   "metadata": {},
   "outputs": [
    {
     "data": {
      "image/png": "[encoded data removed]",
      "text/latex": [
       "$$\\sqrt{\\Phi}$$"
      ],
      "text/plain": [
       "√Φ"
      ]
     },
     "execution_count": 8,
     "metadata": {},
     "output_type": "execute_result"
    }
   ],
   "source": [
    "lam_p.subs(v, 0)"
   ]
  },
  {
   "cell_type": "code",
   "execution_count": 9,
   "metadata": {},
   "outputs": [
    {
     "data": {
      "image/png": "[encoded data removed]",
      "text/latex": [
       "$$- \\frac{v^{3}}{2} + \\frac{v}{2} + \\frac{v^{2}}{2 \\sqrt{\\Phi}} \\sqrt{\\Phi v^{2} + 4} - \\frac{\\sqrt{\\Phi v^{2} + 4}}{2 \\sqrt{\\Phi}}$$"
      ],
      "text/plain": [
       "                 __________      __________\n",
       "   3        2   ╱    2          ╱    2     \n",
       "  v    v   v ⋅╲╱  Φ⋅v  + 4    ╲╱  Φ⋅v  + 4 \n",
       "- ── + ─ + ──────────────── - ─────────────\n",
       "  2    2         2⋅√Φ              2⋅√Φ    "
      ]
     },
     "execution_count": 9,
     "metadata": {},
     "output_type": "execute_result"
    }
   ],
   "source": [
    "rhs_single_m"
   ]
  },
  {
   "cell_type": "markdown",
   "metadata": {},
   "source": [
    "We see that these equations aren't too bad, but they'd be a pain to solve analytically. Instead we create functions to solve them numerically."
   ]
  },
  {
   "cell_type": "code",
   "execution_count": 10,
   "metadata": {},
   "outputs": [],
   "source": [
    "rhs_m_sp = sympy.lambdify((phi, v), rhs_single_m, modules='numpy')\n",
    "rhs_p_sp = sympy.lambdify((phi, v), rhs_single_p, modules='numpy')"
   ]
  },
  {
   "cell_type": "markdown",
   "metadata": {},
   "source": [
    "From these functions we can now solve across a rarefaction wave. We will assume that we're dealing with a dam-break problem where the known data has $v=0$ and we have $\\Phi_L > \\Phi_R$. Thus we expect the left wave to be a rarefaction and the right a shock. We will root find to construct $\\Phi_*$, which means we guess $\\Phi_*$ and then solve across the rarefaction and the shock to get guesses for $v_*$: when the guesses agree we have a solution.\n",
    "\n",
    "The solution across the rarefaction can be found using `scipy` functions:"
   ]
  },
  {
   "cell_type": "code",
   "execution_count": 11,
   "metadata": {},
   "outputs": [],
   "source": [
    "from scipy.integrate import odeint\n",
    "from scipy.optimize import brentq, newton, root\n",
    "\n",
    "def raref_m_rhs(v, phi):\n",
    "    return rhs_m_sp(phi, v)\n",
    "\n",
    "def rarefaction(w, phi_star, n_phi_vals=2):\n",
    "    phi, v = w\n",
    "    phi_points = numpy.linspace(phi, phi_star, n_phi_vals)\n",
    "    lam_l = evals_m_sp(phi, v)\n",
    "    v_raref = odeint(raref_m_rhs, v, phi_points)\n",
    "    return v_raref"
   ]
  },
  {
   "cell_type": "markdown",
   "metadata": {},
   "source": [
    "The solution across a shock can also be found using `scipy` functions. We now assume that $\\Phi_*$ is given and root-find to solve the Rankine-Hugoniot conditions for the shock velocity $V_s$ and for $v_*$."
   ]
  },
  {
   "cell_type": "code",
   "execution_count": 12,
   "metadata": {},
   "outputs": [],
   "source": [
    "def shock_residual(guess, w, phi_star):\n",
    "    Vs, v_star = guess\n",
    "    phi, v = w\n",
    "    W = 1 / numpy.sqrt(1 - v**2)\n",
    "    W_star = 1 / numpy.sqrt(1 - v_star**2)\n",
    "    q = numpy.array([phi * W, phi * W**2 * v])\n",
    "    q_star = numpy.array([phi_star * W_star, phi_star * W_star**2 * v_star])\n",
    "    f = numpy.array([phi * W * v, phi * W**2 * v**2 + (phi**2) / 2])\n",
    "    f_star = numpy.array([phi_star * W_star * v_star, phi_star * W_star**2 * v_star**2 + (phi_star**2) / 2])\n",
    "    residual = Vs * (q - q_star) - (f - f_star)\n",
    "    return residual"
   ]
  },
  {
   "cell_type": "markdown",
   "metadata": {},
   "source": [
    "We can combine this to write a general dam-break solver. First write a function to find $\\Phi_*$:"
   ]
  },
  {
   "cell_type": "code",
   "execution_count": 13,
   "metadata": {},
   "outputs": [],
   "source": [
    "def phi_residual(phi_star, wl, wr, Vs_hard_guess):\n",
    "    # Solve across the rarefaction\n",
    "    v_star_raref = rarefaction(wl, phi_star)[-1]\n",
    "    # Guess the shock speed\n",
    "    if Vs_hard_guess is None:\n",
    "        Vs_guess = 0.9*evals_p_sp(phi_star, v_star_raref)\n",
    "    else:\n",
    "        Vs_guess = Vs_hard_guess\n",
    "    #print('guess', evals_p_sp(phi_star, v_star_raref), evals_p_sp(*wr), Vs_guess)\n",
    "    shock_result = root(shock_residual, [Vs_guess, v_star_raref], args=(wr, phi_star))\n",
    "    #print(shock_result)\n",
    "    v_star_shock = shock_result.x[1]\n",
    "    \n",
    "    return v_star_raref - v_star_shock"
   ]
  },
  {
   "cell_type": "markdown",
   "metadata": {},
   "source": [
    "Then put it all together:"
   ]
  },
  {
   "cell_type": "code",
   "execution_count": 14,
   "metadata": {},
   "outputs": [],
   "source": [
    "def dam_break(phi_l, phi_r,  xi_min=-1, xi_max=1, Vs_hard_guess=None):\n",
    "    assert phi_l > phi_r\n",
    "    wl = [phi_l, 0]\n",
    "    wr = [phi_r, 0]\n",
    "    # Find phi_star\n",
    "    phi_star = brentq(phi_residual, phi_l, phi_r, args=(wl, wr, Vs_hard_guess))\n",
    "    \n",
    "    # Left state\n",
    "    lams = [xi_min]\n",
    "    phis = [wl[0]]\n",
    "    vs = [wl[1]]\n",
    "    # Find rarefaction tail\n",
    "    lam_l = evals_m_sp(*wl)\n",
    "    lams.append(lam_l)\n",
    "    phis.append(wl[0])\n",
    "    vs.append(wl[1])\n",
    "    # Solve down rarefaction\n",
    "    phi_raref = numpy.linspace(wl[0], phi_star)\n",
    "    v_raref = rarefaction(wl, phi_star, len(phi_raref))\n",
    "    #print(v_raref)\n",
    "    for i, p in enumerate(phi_raref):\n",
    "        lams.append(evals_m_sp(p, v_raref[i]))\n",
    "        phis.append(p)\n",
    "        vs.append(v_raref[i])\n",
    "    # Find shock result\n",
    "    #print(vs)\n",
    "    v_star = v_raref[-1]\n",
    "    if Vs_hard_guess is None:\n",
    "        Vs_guess = 0.9*evals_p_sp(phi_star, v_star)\n",
    "    else:\n",
    "        Vs_guess = Vs_hard_guess\n",
    "    shock_result = root(shock_residual, [Vs_guess, v_star], args=(wr, phi_star))\n",
    "    #print(shock_result)\n",
    "    Vs = shock_result.x[0]\n",
    "    lams.append(Vs)\n",
    "    phis.append(phi_star)\n",
    "    vs.append(v_star)\n",
    "    lams.append(Vs)\n",
    "    phis.append(wr[0])\n",
    "    vs.append(wr[1])\n",
    "    #    Right state\n",
    "    lams.append(xi_max)\n",
    "    phis.append(wr[0])\n",
    "    vs.append(wr[1])\n",
    "    \n",
    "    return lams, phis, vs"
   ]
  },
  {
   "cell_type": "markdown",
   "metadata": {},
   "source": [
    "Check it on some cases:"
   ]
  },
  {
   "cell_type": "code",
   "execution_count": 15,
   "metadata": {},
   "outputs": [],
   "source": [
    "%matplotlib inline\n",
    "from matplotlib import pyplot"
   ]
  },
  {
   "cell_type": "code",
   "execution_count": 16,
   "metadata": {},
   "outputs": [
    {
     "data": {
      "image/png": "[encoded data removed]",
      "text/plain": [
       "<matplotlib.figure.Figure at 0x114240780>"
      ]
     },
     "metadata": {},
     "output_type": "display_data"
    }
   ],
   "source": [
    "t_end = 0.3\n",
    "domain = (-0.5, 0.5)\n",
    "phi_l = 0.41\n",
    "phi_r = 0.01\n",
    "lams, phis, vs = dam_break(phi_l, phi_r, xi_min=domain[0] / t_end, xi_max=domain[1] / t_end)\n",
    "\n",
    "fig, ax = pyplot.subplots(2, 1)\n",
    "ax[0].plot(t_end * numpy.array(lams), phis)\n",
    "ax[0].set_ylabel(r\"$\\Phi$\")\n",
    "ax[0].set_xlim(*domain)\n",
    "ax[1].plot(t_end * numpy.array(lams), vs)\n",
    "ax[1].set_ylabel(r\"$v$\")\n",
    "ax[1].set_xlim(*domain)\n",
    "fig.tight_layout()"
   ]
  },
  {
   "cell_type": "code",
   "execution_count": 17,
   "metadata": {},
   "outputs": [
    {
     "name": "stderr",
     "output_type": "stream",
     "text": [
      "/anaconda/envs/jupyterlab/lib/python3.6/site-packages/ipykernel_launcher.py:5: RuntimeWarning: invalid value encountered in sqrt\n",
      "  \"\"\"\n"
     ]
    },
    {
     "data": {
      "image/png": "[encoded data removed]",
      "text/plain": [
       "<matplotlib.figure.Figure at 0x1163b7da0>"
      ]
     },
     "metadata": {},
     "output_type": "display_data"
    }
   ],
   "source": [
    "t_end = 0.4\n",
    "domain = (-0.5, 0.5)\n",
    "phi_l = 0.90\n",
    "phi_r = 0.05\n",
    "lams, phis, vs = dam_break(phi_l, phi_r, xi_min=domain[0] / t_end, xi_max=domain[1] / t_end, Vs_hard_guess=0.8)\n",
    "\n",
    "fig, ax = pyplot.subplots(2, 1)\n",
    "ax[0].plot(t_end * numpy.array(lams), phis)\n",
    "ax[0].set_ylabel(r\"$\\Phi$\")\n",
    "ax[0].set_xlim(*domain)\n",
    "ax[1].plot(t_end * numpy.array(lams), vs)\n",
    "ax[1].set_ylabel(r\"$v$\")\n",
    "ax[1].set_xlim(*domain)\n",
    "fig.tight_layout()"
   ]
  },
  {
   "cell_type": "code",
   "execution_count": 18,
   "metadata": {},
   "outputs": [
    {
     "name": "stderr",
     "output_type": "stream",
     "text": [
      "/anaconda/envs/jupyterlab/lib/python3.6/site-packages/ipykernel_launcher.py:5: RuntimeWarning: invalid value encountered in sqrt\n",
      "  \"\"\"\n"
     ]
    },
    {
     "data": {
      "image/png": "[encoded data removed]",
      "text/plain": [
       "<matplotlib.figure.Figure at 0x1164d0860>"
      ]
     },
     "metadata": {},
     "output_type": "display_data"
    }
   ],
   "source": [
    "t_end = 0.4\n",
    "domain = (-0.5, 0.5)\n",
    "phi_l = 0.95\n",
    "phi_r = 0.01\n",
    "lams, phis, vs = dam_break(phi_l, phi_r, xi_min=domain[0] / t_end, xi_max=domain[1] / t_end, Vs_hard_guess=0.9)\n",
    "\n",
    "fig, ax = pyplot.subplots(2, 1)\n",
    "ax[0].plot(t_end * numpy.array(lams), phis)\n",
    "ax[0].set_ylabel(r\"$\\Phi$\")\n",
    "ax[0].set_xlim(*domain)\n",
    "ax[1].plot(t_end * numpy.array(lams), vs)\n",
    "ax[1].set_ylabel(r\"$v$\")\n",
    "ax[1].set_xlim(*domain)\n",
    "fig.tight_layout()"
   ]
  },
  {
   "cell_type": "code",
   "execution_count": 19,
   "metadata": {},
   "outputs": [
    {
     "name": "stderr",
     "output_type": "stream",
     "text": [
      "/anaconda/envs/jupyterlab/lib/python3.6/site-packages/ipykernel_launcher.py:5: RuntimeWarning: invalid value encountered in sqrt\n",
      "  \"\"\"\n"
     ]
    },
    {
     "data": {
      "image/png": "[encoded data removed]",
      "text/plain": [
       "<matplotlib.figure.Figure at 0x116628588>"
      ]
     },
     "metadata": {},
     "output_type": "display_data"
    }
   ],
   "source": [
    "t_end = 0.4\n",
    "domain = (-0.5, 0.5)\n",
    "phi_l = 0.9999\n",
    "phi_r = 0.00001\n",
    "lams, phis, vs = dam_break(phi_l, phi_r, xi_min=domain[0] / t_end, xi_max=domain[1] / t_end, Vs_hard_guess=0.999)\n",
    "\n",
    "fig, ax = pyplot.subplots(2, 1)\n",
    "ax[0].semilogy(t_end * numpy.array(lams), phis)\n",
    "ax[0].set_ylabel(r\"$\\Phi$\")\n",
    "ax[0].set_xlim(*domain)\n",
    "ax[1].plot(t_end * numpy.array(lams), vs)\n",
    "ax[1].set_ylabel(r\"$v$\")\n",
    "ax[1].set_xlim(*domain)\n",
    "fig.tight_layout()"
   ]
  },
  {
   "cell_type": "markdown",
   "metadata": {},
   "source": [
    "It seems to be very difficult to get high velocities ($v_* > 0.95$, for example). This may indicate a solver problem in this regime (not sure I'd trust the numerical solution there either)."
   ]
  }
 ],
 "metadata": {
  "kernelspec": {
   "display_name": "Python 3",
   "language": "python",
   "name": "python3"
  },
  "language_info": {
   "codemirror_mode": {
    "name": "ipython",
    "version": 3
   },
   "file_extension": ".py",
   "mimetype": "text/x-python",
   "name": "python",
   "nbconvert_exporter": "python",
   "pygments_lexer": "ipython3",
   "version": "3.6.4"
  }
 },
 "nbformat": 4,
 "nbformat_minor": 2
}
