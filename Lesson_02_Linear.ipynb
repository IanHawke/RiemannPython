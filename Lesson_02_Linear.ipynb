{
 "metadata": {
  "name": "",
  "signature": "sha256:2f14cf3eda6265a83eafc848c95e69bb481c940b06f751536c788494b4cb1fc1"
 },
 "nbformat": 3,
 "nbformat_minor": 0,
 "worksheets": [
  {
   "cells": [
    {
     "cell_type": "code",
     "collapsed": false,
     "input": [
      "from IPython.core.display import HTML\n",
      "def css_styling():\n",
      "    styles = open(\"./styles/custom.css\", \"r\").read()\n",
      "    return HTML(styles)\n",
      "css_styling()"
     ],
     "language": "python",
     "metadata": {},
     "outputs": [
      {
       "html": [
        "<link href='http://fonts.googleapis.com/css?family=Alegreya+Sans:100,300,400,500,700,800,900,100italic,300italic,400italic,500italic,700italic,800italic,900italic' rel='stylesheet' type='text/css'>\n",
        "<link href='http://fonts.googleapis.com/css?family=Arvo:400,700,400italic' rel='stylesheet' type='text/css'>\n",
        "<link href='http://fonts.googleapis.com/css?family=PT+Mono' rel='stylesheet' type='text/css'>\n",
        "<link href='http://fonts.googleapis.com/css?family=Shadows+Into+Light' rel='stylesheet' type='text/css'>\n",
        "<link href='http://fonts.googleapis.com/css?family=Philosopher:400,700,400italic,700italic' rel='stylesheet' type='text/css'>\n",
        "\n",
        "<style>\n",
        "\n",
        "@font-face {\n",
        "    font-family: \"Computer Modern\";\n",
        "    src: url('http://mirrors.ctan.org/fonts/cm-unicode/fonts/otf/cmunss.otf');\n",
        "}\n",
        "\n",
        "#notebook_panel { /* main background */\n",
        "    background: #888;\n",
        "    color: #f6f6f6;\n",
        "}\n",
        "\n",
        "div #notebook { /* centre the content */\n",
        "    background: #fff;\n",
        "    color: #333;\n",
        "    width: 1200px;\n",
        "    margin: auto;\n",
        "    padding-left: 1em;\n",
        "    padding-right: 1em;\n",
        "    padding-top: 2ex;\n",
        "    overflow-x: auto;\n",
        "}\n",
        "\n",
        "#notebook li { /* More space between bullet points */\n",
        "margin-top:0.8em;\n",
        "}\n",
        "\n",
        "div.cell { /* set cell width to about 80 chars */\n",
        "    width: 900px;\n",
        "}\n",
        "\n",
        "div.cell.border-box-sizing.code_cell.running { \n",
        "    /* draw border around running cells */\n",
        "    border: 3px solid #111;\n",
        "}\n",
        "\n",
        "\n",
        "h1 {\n",
        "    font-family: 'Philosopher', sans-serif;\n",
        "}\n",
        "h2 {\n",
        "    font-family: 'Philosopher', serif;\n",
        "}\n",
        "h3{\n",
        "    font-family: 'Philosopher', serif;\n",
        "    font-style: 'italic';\n",
        "    margin-top:12px;\n",
        "    margin-bottom: 3px;\n",
        "}\n",
        "h4{\n",
        "    font-family: 'Philosopher', serif;\n",
        "}\n",
        "h5 {\n",
        "    font-family: 'Alegreya Sans', sans-serif;\n",
        "}\t\n",
        "h6 {\n",
        "    font-family: 'PT Mono', sans-serif;\n",
        "}\t\n",
        "\n",
        "div.text_cell_render{\n",
        "    font-family: 'Arvo' sans-serif;\n",
        "    line-height: 130%;\n",
        "    font-size: 115%;\n",
        "    width:800px;\n",
        "    margin-left:auto;\n",
        "    margin-right:auto;\n",
        "}\n",
        "\n",
        ".CodeMirror{\n",
        "        font-family: \"PT Mono\";\n",
        "                    font-size: 100%;\n",
        "            }\n",
        "\n",
        ".text_cell_render h1 {\n",
        "    font-weight: 400;\n",
        "    font-size: 64pt;\n",
        "    line-height: 100%;\n",
        "    color: rgb(12,85,97);\n",
        "    margin-bottom: 0.1em;\n",
        "    margin-top: 0.1em;\n",
        "    display: block;\n",
        "}\t\n",
        ".text_cell_render h2 {\n",
        "    font-weight: 700;\n",
        "    font-size: 24pt;\n",
        "    line-height: 100%;\n",
        "    color: rgb(171,165,131);\n",
        "    margin-bottom: 0.1em;\n",
        "    margin-top: 0.1em;\n",
        "    display: block;\n",
        "}\t\n",
        "\n",
        ".text_cell_render h3 {\n",
        "    font-style: italic;\n",
        "    color: rgb(95,92,72);\n",
        "}\n",
        "\n",
        ".text_cell_render h5 {\n",
        "    font-weight: 300;\n",
        "    font-size: 16pt;\n",
        "    color: grey;\n",
        "    font-style: italic;\n",
        "    margin-bottom: .1em;\n",
        "    margin-top: 0.1em;\n",
        "    display: block;\n",
        "}\n",
        "\n",
        ".text_cell_render h6 {\n",
        "    font-weight: 300;\n",
        "    font-size: 10pt;\n",
        "    color: grey;\n",
        "    margin-bottom: 1px;\n",
        "    margin-top: 1px;\n",
        "}\n",
        "div.cell.code_cell {  /* Group area containing both code and output */\n",
        "background-color: rgba(171,165,131,0.3); \n",
        "border-radius: 10px; /* rounded borders */\n",
        "padding: 1em;\n",
        "}\n",
        "\n",
        "</style>\n",
        "\n",
        "<script type=\"text/x-mathjax-config\">\n",
        "    MathJax.Hub.Config({\n",
        "                        TeX: {\n",
        "                           extensions: [\"AMSmath.js\"],\n",
        "                           Macros: {N : \"\\\\mathbb{N}\"}\n",
        "                           },\n",
        "                tex2jax: {\n",
        "                    inlineMath: [ ['$','$'], [\"\\\\(\",\"\\\\)\"] ],\n",
        "                    displayMath: [ ['$$','$$'], [\"\\\\[\",\"\\\\]\"] ]\n",
        "                },\n",
        "                displayAlign: 'center', // Change this to 'center' to center equations.\n",
        "                \"HTML-CSS\": {\n",
        "                    styles: {'.MathJax_Display': {margin: \"40em 40em 40em 40em\",line-height : '200%', border: '1px solid ##CC0000' } },\n",
        "                    linebreaks: {'automatic': 'true'}\n",
        "                }\n",
        "        });\n",
        "</script>\n"
       ],
       "metadata": {},
       "output_type": "pyout",
       "prompt_number": 1,
       "text": [
        "<IPython.core.display.HTML at 0x29dfe50>"
       ]
      }
     ],
     "prompt_number": 1
    },
    {
     "cell_type": "heading",
     "level": 1,
     "metadata": {},
     "source": [
      "Linear Riemann Problems"
     ]
    },
    {
     "cell_type": "heading",
     "level": 2,
     "metadata": {},
     "source": [
      "Scalar case"
     ]
    },
    {
     "cell_type": "markdown",
     "metadata": {},
     "source": [
      "The Riemann problem is posed by giving a conservation law\n",
      "\n",
      "\\begin{equation}\n",
      "  \\partial_t {\\bf q} + \\partial_x {\\bf f}({\\bf q}) = {\\bf 0}\n",
      "\\end{equation}\n",
      "\n",
      "with piecewise constant initial data\n",
      "\n",
      "\\begin{equation}\n",
      "  {\\bf q}(x, 0) = \\begin{cases} {\\bf q}_l & x < 0, \\\\ {\\bf q}_r & x > 0. \\end{cases}\n",
      "\\end{equation}"
     ]
    },
    {
     "cell_type": "markdown",
     "metadata": {},
     "source": [
      "In the scalar case we restrict to systems with one variable. In the linear case we restrict to fluxes that are linear in $q$, which is equivalent to the problem\n",
      "\n",
      "\\begin{equation}\n",
      "  \\partial_t q + \\partial_x \\left( a q \\right) = 0, \\qquad q(x, 0) = \\begin{cases} q_l & x < 0, \\\\ q_r & x > 0. \\end{cases}\n",
      "\\end{equation}\n",
      "\n",
      "Here $a$ is a constant. This equation is also known as the *advection equation*."
     ]
    },
    {
     "cell_type": "markdown",
     "metadata": {},
     "source": [
      "The solution to the Riemann problem consists of determining the value of ${\\bf q}(x, t)$ for all $t > 0$. The solution may or may not be differentiable, depending on the system and the initial data."
     ]
    },
    {
     "cell_type": "heading",
     "level": 3,
     "metadata": {},
     "source": [
      "Smooth solutions"
     ]
    },
    {
     "cell_type": "markdown",
     "metadata": {},
     "source": [
      "The initial data is not differentiable, so we should be considering the weak form. We temporarily ignore that and pretend that the solution is differentiable. Then we can simplify the problem by introducing the variable $\\xi = x / t$, which makes sense only for $t > 0$.\n",
      "\n",
      "In terms of this variable we can write\n",
      "\n",
      "\\begin{align}\n",
      "  \\partial_t & = \\frac{\\partial \\xi}{\\partial t} \\partial_{\\xi} & \\partial_x & = \\frac{\\partial \\xi}{\\partial x} \\partial_{\\xi} \\\\\n",
      "  & = -\\frac{\\xi}{t} \\partial_{\\xi} & & = \\frac{1}{t} \\partial_{\\xi}.\n",
      "\\end{align}\n",
      "\n",
      "Hence we can rewrite the advection equation as\n",
      "\n",
      "\\begin{equation}\n",
      "  \\frac{1}{t} \\left( -\\xi + a \\right) \\partial_{\\xi} q = 0.\n",
      "\\end{equation}\n",
      "\n",
      "Hence, for $t > 0$, for general initial data (where $\\partial_{\\xi} q \\ne 0$) we must have that $\\xi = a$."
     ]
    },
    {
     "cell_type": "markdown",
     "metadata": {},
     "source": [
      "By introducing the variable $\\xi$ we have rewritten the solution $q(x, t)$ as a function of a single variable $q(\\xi)$. This is called the *self-similar* form. This will only work if\n",
      "\n",
      "1. this rewriting is compatible with the equation. In the case of the advection equation we have just shown that it is consistent, and that it leads to a restriction on $\\xi$. For general conservation laws a similar calculation follows through.\n",
      "2. the initial data is compatible with the self-similar form. For the Riemann problem the initial data is compatible: there is no scale. For general initial data it is not true."
     ]
    },
    {
     "cell_type": "markdown",
     "metadata": {},
     "source": []
    }
   ],
   "metadata": {}
  }
 ]
}