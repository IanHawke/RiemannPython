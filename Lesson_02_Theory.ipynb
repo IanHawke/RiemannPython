{
 "cells": [
  {
   "cell_type": "code",
   "execution_count": 1,
   "metadata": {},
   "outputs": [
    {
     "data": {
      "text/html": [
       "<link href='http://fonts.googleapis.com/css?family=Alegreya+Sans:100,300,400,500,700,800,900,100italic,300italic,400italic,500italic,700italic,800italic,900italic' rel='stylesheet' type='text/css'>\n",
       "<link href='http://fonts.googleapis.com/css?family=Arvo:400,700,400italic' rel='stylesheet' type='text/css'>\n",
       "<link href='http://fonts.googleapis.com/css?family=PT+Mono' rel='stylesheet' type='text/css'>\n",
       "<link href='http://fonts.googleapis.com/css?family=Shadows+Into+Light' rel='stylesheet' type='text/css'>\n",
       "<link href='http://fonts.googleapis.com/css?family=Philosopher:400,700,400italic,700italic' rel='stylesheet' type='text/css'>\n",
       "\n",
       "<style>\n",
       "\n",
       "@font-face {\n",
       "    font-family: \"Computer Modern\";\n",
       "    src: url('http://mirrors.ctan.org/fonts/cm-unicode/fonts/otf/cmunss.otf');\n",
       "}\n",
       "\n",
       "#notebook_panel { /* main background */\n",
       "    background: #888;\n",
       "    color: #f6f6f6;\n",
       "}\n",
       "\n",
       "div #notebook { /* centre the content */\n",
       "    background: #fff;\n",
       "    color: #333;\n",
       "    width: 1200px;\n",
       "    margin: auto;\n",
       "    padding-left: 1em;\n",
       "    padding-right: 1em;\n",
       "    padding-top: 2ex;\n",
       "    overflow-x: auto;\n",
       "}\n",
       "\n",
       "#notebook li { /* More space between bullet points */\n",
       "margin-top:0.8em;\n",
       "}\n",
       "\n",
       "div.cell { /* set cell width to about 80 chars */\n",
       "    width: 900px;\n",
       "}\n",
       "\n",
       "div.cell.border-box-sizing.code_cell.running { \n",
       "    /* draw border around running cells */\n",
       "    border: 3px solid #111;\n",
       "}\n",
       "\n",
       "\n",
       "h1 {\n",
       "    font-family: 'Philosopher', sans-serif;\n",
       "}\n",
       "h2 {\n",
       "    font-family: 'Philosopher', serif;\n",
       "}\n",
       "h3{\n",
       "    font-family: 'Philosopher', serif;\n",
       "    font-style: 'italic';\n",
       "    margin-top:12px;\n",
       "    margin-bottom: 3px;\n",
       "}\n",
       "h4{\n",
       "    font-family: 'Philosopher', serif;\n",
       "}\n",
       "h5 {\n",
       "    font-family: 'Alegreya Sans', sans-serif;\n",
       "}\t\n",
       "h6 {\n",
       "    font-family: 'PT Mono', sans-serif;\n",
       "}\t\n",
       "\n",
       "div.text_cell_render{\n",
       "    font-family: 'Arvo' sans-serif;\n",
       "    line-height: 130%;\n",
       "    font-size: 115%;\n",
       "    width:800px;\n",
       "    margin-left:auto;\n",
       "    margin-right:auto;\n",
       "}\n",
       "\n",
       ".CodeMirror{\n",
       "        font-family: \"PT Mono\";\n",
       "                    font-size: 100%;\n",
       "            }\n",
       "\n",
       ".text_cell_render h1 {\n",
       "    font-weight: 400;\n",
       "    font-size: 64pt;\n",
       "    line-height: 100%;\n",
       "    color: rgb(12,85,97);\n",
       "    margin-bottom: 0.1em;\n",
       "    margin-top: 0.1em;\n",
       "    display: block;\n",
       "}\t\n",
       ".text_cell_render h2 {\n",
       "    font-weight: 700;\n",
       "    font-size: 24pt;\n",
       "    line-height: 100%;\n",
       "    color: rgb(171,165,131);\n",
       "    margin-bottom: 0.1em;\n",
       "    margin-top: 0.1em;\n",
       "    display: block;\n",
       "}\t\n",
       "\n",
       ".text_cell_render h3 {\n",
       "    font-style: italic;\n",
       "    color: rgb(95,92,72);\n",
       "}\n",
       "\n",
       ".text_cell_render h5 {\n",
       "    font-weight: 300;\n",
       "    font-size: 16pt;\n",
       "    color: grey;\n",
       "    font-style: italic;\n",
       "    margin-bottom: .1em;\n",
       "    margin-top: 0.1em;\n",
       "    display: block;\n",
       "}\n",
       "\n",
       ".text_cell_render h6 {\n",
       "    font-weight: 300;\n",
       "    font-size: 10pt;\n",
       "    color: grey;\n",
       "    margin-bottom: 1px;\n",
       "    margin-top: 1px;\n",
       "}\n",
       "div.cell.code_cell {  /* Group area containing both code and output */\n",
       "background-color: rgba(171,165,131,0.3); \n",
       "border-radius: 10px; /* rounded borders */\n",
       "padding: 1em;\n",
       "}\n",
       "\n",
       "</style>\n",
       "\n",
       "<script type=\"text/x-mathjax-config\">\n",
       "    MathJax.Hub.Config({\n",
       "                        TeX: {\n",
       "                           extensions: [\"AMSmath.js\"],\n",
       "                           Macros: {N : \"\\\\mathbb{N}\"}\n",
       "                           },\n",
       "                tex2jax: {\n",
       "                    inlineMath: [ ['$','$'], [\"\\\\(\",\"\\\\)\"] ],\n",
       "                    displayMath: [ ['$$','$$'], [\"\\\\[\",\"\\\\]\"] ]\n",
       "                },\n",
       "                displayAlign: 'center', // Change this to 'center' to center equations.\n",
       "                \"HTML-CSS\": {\n",
       "                    styles: {'.MathJax_Display': {margin: \"40em 40em 40em 40em\",line-height : '200%', border: '1px solid ##CC0000' } },\n",
       "                    linebreaks: {'automatic': 'true'}\n",
       "                }\n",
       "        });\n",
       "</script>\n"
      ],
      "text/plain": [
       "<IPython.core.display.HTML object>"
      ]
     },
     "execution_count": 1,
     "metadata": {},
     "output_type": "execute_result"
    }
   ],
   "source": [
    "from IPython.core.display import HTML\n",
    "def css_styling():\n",
    "    styles = open(\"./styles/custom.css\", \"r\").read()\n",
    "    return HTML(styles)\n",
    "css_styling()"
   ]
  },
  {
   "cell_type": "markdown",
   "metadata": {},
   "source": [
    "# Theory results"
   ]
  },
  {
   "cell_type": "markdown",
   "metadata": {},
   "source": [
    "There are a number of key theory results that we need when solving the Riemann problem, written as\n",
    "\n",
    "\\begin{equation}\n",
    "  \\partial_t {\\bf q} + \\partial_x {\\bf f}({\\bf q}) = {\\bf 0}, \\qquad {\\bf q}(x, t=0) = \\begin{cases} {\\bf q}_l & x < 0, \\\\ {\\bf q}_r & x > 0, \\end{cases}\n",
    "\\end{equation}\n",
    "\n",
    "where the left and right states ${\\bf q}_{l, r}$ are constant."
   ]
  },
  {
   "cell_type": "markdown",
   "metadata": {},
   "source": [
    "## Self similarity"
   ]
  },
  {
   "cell_type": "markdown",
   "metadata": {},
   "source": [
    "We need to show that the solution is *self-similar*, which in this case means the solution can be written as a function of one variable, ${\\bf q} \\equiv {\\bf q}(\\xi)$ where $\\xi = x/t$."
   ]
  },
  {
   "cell_type": "markdown",
   "metadata": {},
   "source": [
    "First, it is obvious that the equation defining the conservation law,\n",
    "\n",
    "\\begin{equation}\n",
    "  \\partial_t {\\bf q} + \\partial_x {\\bf f}({\\bf q}) = {\\bf 0},\n",
    "\\end{equation}\n",
    "\n",
    "is *scale-free*. That is, if we change coordinates by any constant scaling to $t' = a t$ and $x' =  a x$ where $a > 0$, the conservation law is unchanged in form, \n",
    "\n",
    "\\begin{equation}\n",
    "  \\partial_{t'} {\\bf q} + \\partial_{x'} {\\bf f}({\\bf q}) = {\\bf 0}.\n",
    "\\end{equation}"
   ]
  },
  {
   "cell_type": "markdown",
   "metadata": {},
   "source": [
    "Second, we need the initial data to also be scale free. For the Riemann problem this is clearly true: applying the same scaling to the initial data leaves it unchanged."
   ]
  },
  {
   "cell_type": "markdown",
   "metadata": {},
   "source": [
    "Combining these results we see that the solution must be scale free so that if $\\xi = x / t$ is constant (so that $x$ and $t$ are scaled in the same way), the solution must be constant. So ${\\bf q} \\equiv {\\bf q}(\\xi)$."
   ]
  },
  {
   "cell_type": "markdown",
   "metadata": {},
   "source": [
    "We will often think of $\\xi$ as a *spatial* coordinate, by considering the result at a fixed time $t = T$, say."
   ]
  },
  {
   "cell_type": "markdown",
   "metadata": {},
   "source": [
    "## Differentiable solutions"
   ]
  },
  {
   "cell_type": "markdown",
   "metadata": {},
   "source": [
    "For sections of the solution that are differentiable, we can take two steps. First we can write the conservation law in the quasilinear form\n",
    "\n",
    "\\begin{equation}\n",
    "  \\partial_t {\\bf q} + \\frac{\\partial {\\bf f}}{\\partial {\\bf q}} \\partial_x {\\bf q} = {\\bf 0}.\n",
    "\\end{equation}\n",
    "\n",
    "Second we can use the self-similarity to replace the partial derivatives, using\n",
    "\n",
    "\\begin{align}\n",
    "  \\partial_t & = \\frac{\\partial \\xi}{\\partial t} \\partial_{\\xi} & \\partial_x & = \\frac{\\partial \\xi}{\\partial x} \\partial_{\\xi} \\\\\n",
    "  & = -\\frac{\\xi}{t} \\partial_{\\xi} & & = \\frac{1}{t} \\partial_{\\xi},\n",
    "\\end{align}\n",
    "\n",
    "to get\n",
    "\n",
    "\\begin{equation}\n",
    "  \\frac{1}{t} \\left( \\frac{\\partial {\\bf f}}{\\partial {\\bf q}} - \\xi \\textrm{Id} \\right) \\partial_{\\xi} {\\bf q} = {\\bf 0}.\n",
    "\\end{equation}"
   ]
  },
  {
   "cell_type": "markdown",
   "metadata": {},
   "source": [
    "For $t > 0$ there are two possible cases:\n",
    "\n",
    "1. $\\partial_{\\xi} {\\bf q} = {\\bf 0}$: the state is *constant*. \n",
    "2. $\\xi$ is an eigenvalue of the Jacobian matrix $\\partial {\\bf f} / \\partial {\\bf q}$, and $\\partial_{\\xi} {\\bf q}$ is the eigenvector corresponding to this eigenvalue."
   ]
  },
  {
   "cell_type": "markdown",
   "metadata": {},
   "source": [
    "We note two consequences from this. First, it only makes sense if the eigenvalues of the Jacobian are real. This is one of the requirements of the system being *hyperbolic*: the eigenvalues must be real and the eigenvectors independent. Second, if we denote the eigenvalue by $\\lambda$ and its associated eigenvector by ${\\bf r}$, then we have\n",
    "\n",
    "\\begin{align}\n",
    "  && \\lambda({\\bf q}) & = \\xi \\\\\n",
    "  \\implies && \\frac{\\partial \\lambda}{\\partial {\\bf q}} \\frac{\\partial {\\bf q}}{\\partial \\xi} & = 1, \n",
    "\\end{align}\n",
    "\n",
    "by differentiating with respect to $\\xi$. Then, as $\\partial_{\\xi} {\\bf q}$ is, as noted above, an eigenvector, we write\n",
    "\n",
    "\\begin{equation}\n",
    "  \\frac{\\partial {\\bf q}}{\\partial \\xi} = \\alpha {\\bf r},\n",
    "\\end{equation}\n",
    "\n",
    "and combining the two results determines the proportionality constant $\\alpha$ as\n",
    "\n",
    "\\begin{equation}\n",
    "  \\alpha = \\left[ {\\bf r} \\cdot \\frac{\\partial \\lambda}{\\partial {\\bf q}} \\right]^{-1}\n",
    "\\end{equation}\n",
    "\n",
    "Therefore we have the *ordinary* differential equation for ${\\bf q}$\n",
    "\n",
    "\\begin{equation}\n",
    "  \\frac{\\partial {\\bf q}}{\\partial \\xi} = \\frac{{\\bf r}}{{\\bf r} \\cdot \\frac{\\partial \\lambda}{\\partial {\\bf q}}}.\n",
    "\\end{equation}\n",
    "\n",
    "This gives a continuous solution for ${\\bf q}$, *provided* that ${\\bf r} \\cdot \\frac{\\partial \\lambda}{\\partial {\\bf q}} \\ne 0$. This is the requirement that the solution across this wave is *genuinely nonlinear*."
   ]
  },
  {
   "cell_type": "markdown",
   "metadata": {},
   "source": [
    "A final consequence of this section is the *number* of waves. If the system has size $N$ then there are $N$ eigenvalues, and hence $N$ waves. These will separate constant states, so we expect the solution to consist of $N+1$ constant states separated by $N$ waves."
   ]
  },
  {
   "cell_type": "markdown",
   "metadata": {},
   "source": [
    "## Discontinuous solutions"
   ]
  },
  {
   "cell_type": "markdown",
   "metadata": {},
   "source": [
    "There remains only one possibility: the solution is not a continuous function of the similarity coordinate $\\xi$. That such solutions may exist is no surprise, as it is true of the initial data. "
   ]
  },
  {
   "cell_type": "markdown",
   "metadata": {},
   "source": [
    "When the solution is discontinuous we must use the weak form\n",
    "\n",
    "\\begin{equation}\n",
    "  \\frac{\\textrm{d}}{\\textrm{d}t} \\int_{x_l}^{x_r} {\\bf q} \\, \\textrm{d}x = {\\bf f}({\\bf q}(x_l)) - {\\bf f}({\\bf q}(x_r)).\n",
    "\\end{equation}"
   ]
  },
  {
   "cell_type": "markdown",
   "metadata": {},
   "source": [
    "Let us assume that the solution is discontinuous along the path $X(t)$. Consider the volume close to this discontinuity, $[X(t) - \\epsilon, X(t) + \\epsilon]$. In the weak form this gives\n",
    "\n",
    "\\begin{align}\n",
    "  && \\frac{\\textrm{d}}{\\textrm{d}t} \\int_{X(t) - \\epsilon}^{X(t)} {\\bf q} \\, \\textrm{d}x + \\frac{\\textrm{d}}{\\textrm{d}t} \\int_{X(t)}^{X(t) + \\epsilon} {\\bf q} \\, \\textrm{d}x  & = {\\bf f}({\\bf q}(X(t) - \\epsilon)) - {\\bf f}({\\bf q}(X(t) + \\epsilon)) \\\\\n",
    "  \\implies && \\frac{\\textrm{d}X}{\\textrm{d}t} \\left( {\\bf q} \\left( X(t) - \\epsilon, t \\right) - {\\bf q} \\left( X(t) + \\epsilon, t \\right) \\right) + \\int_{X(t) - \\epsilon}^{X(t)} \\frac{\\partial {\\bf q}}{\\partial t} \\, \\textrm{d}x + \\int_{X(t)}^{X(t) + \\epsilon} \\frac{\\partial {\\bf q}}{\\partial t} \\, \\textrm{d}x & = {\\bf f}({\\bf q}(X(t) - \\epsilon)) - {\\bf f}({\\bf q}(X(t) + \\epsilon)).\n",
    "\\end{align}\n",
    "\n",
    "Taking the limit $\\epsilon \\to 0$ both the integrals vanish and we are left with the *Rankine-Hugoniot conditions*\n",
    "\n",
    "\\begin{equation}\n",
    "  \\frac{\\textrm{d}X}{\\textrm{d}t} \\left[ {\\bf q} \\right] =  \\left[ {\\bf f}({\\bf q}) \\right].\n",
    "\\end{equation}\n",
    "\n",
    "Here the notation $\\left[ {\\bf u} \\right]$ means the jump in the quantity ${\\bf u}$ across the discontinuity."
   ]
  },
  {
   "cell_type": "markdown",
   "metadata": {},
   "source": [
    "As the solution must be self-similar, the shock speed must be constant, $\\textrm{d}X / \\textrm{d}t = V_s$, giving the standard form\n",
    "\n",
    "\\begin{equation}\n",
    "  V_s \\left[ {\\bf q} \\right] =  \\left[ {\\bf f}({\\bf q}) \\right].\n",
    "\\end{equation}"
   ]
  },
  {
   "cell_type": "markdown",
   "metadata": {},
   "source": [
    "## Summary"
   ]
  },
  {
   "cell_type": "markdown",
   "metadata": {},
   "source": [
    "1. The solution to the Riemann problem is self-similar.\n",
    "2. The solution contains $N+1$ constant states separated by $N$ waves.\n",
    "3. The wave may be continuous, in which case it solves an ordinary differential equation determined by eigenvalues and eigenvectors of the Jacobian matrix.\n",
    "4. The wave may be discontinuous, in which case it satisfies the Rankine-Hugoniot equations."
   ]
  },
  {
   "cell_type": "markdown",
   "metadata": {},
   "source": [
    "This is not the most general solution covering all cases, but is sufficient for most cases of interest."
   ]
  }
 ],
 "metadata": {
  "kernelspec": {
   "display_name": "Python 3",
   "language": "python",
   "name": "python3"
  },
  "language_info": {
   "codemirror_mode": {
    "name": "ipython",
    "version": 3
   },
   "file_extension": ".py",
   "mimetype": "text/x-python",
   "name": "python",
   "nbconvert_exporter": "python",
   "pygments_lexer": "ipython3",
   "version": "3.6.4"
  }
 },
 "nbformat": 4,
 "nbformat_minor": 1
}
