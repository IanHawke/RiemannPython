{
 "cells": [
  {
   "cell_type": "markdown",
   "metadata": {},
   "source": [
    "# The weak form of a conservation law"
   ]
  },
  {
   "cell_type": "markdown",
   "metadata": {},
   "source": [
    "In [Lesson 0](Lesson_00_Introduction.ipynb) we wrote down the balance law form\n",
    "$$\n",
    "  \\partial_t {\\bf q} + \\partial_x {\\bf f}({\\bf q}) = {\\bf s}({\\bf q}).\n",
    "$$\n",
    "\n",
    "For the purposes of solving the Riemann problem we shall restrict to *conservation laws*\n",
    "$$\n",
    "  \\partial_t {\\bf q} + \\partial_x {\\bf f}({\\bf q}) = {\\bf 0}\n",
    "$$\n",
    "which retain all of the key features of balance laws over small regions of space and time."
   ]
  },
  {
   "cell_type": "markdown",
   "metadata": {},
   "source": [
    "In [Lesson 0](Lesson_00_Introduction.ipynb) we stated (without showing!) that, for a generic conservation law, we can find discontinuous solutions. An example of this occuring can be seen in Ketcheson's [lesson on the traffic flow equation](http://nbviewer.ipython.org/github/ketch/HyperPython/blob/master/Lesson_02_Traffic.ipynb). When this occurs the conservation law makes no sense. Instead we should consider the *weak form*."
   ]
  },
  {
   "cell_type": "markdown",
   "metadata": {},
   "source": [
    "Consider single scalar quantity $q$ on a one-dimensional region of space $[x_l, x_r]$. The total amount of \"stuff\" inside this region is\n",
    "$$\n",
    "  \\textrm{Total stuff} = \\int_{x_l}^{x_r} q \\, \\textrm{d}x.\n",
    "$$\n",
    "The flux of \"stuff\" through the left boundary of the region is $f(q(x_l))$. The flux of stuff through the right boundary of the region is $-f(q(x_r))$ (the choice of sign is conventional, but must be consistent with flow in through the left boundary). Therefore the total rate of change of stuff is\n",
    "$$\n",
    "  \\frac{\\textrm{d}}{\\textrm{d}t} \\int_{x_l}^{x_r} q \\, \\textrm{d}x = f(q(x_l)) - f(q(x_r)).\n",
    "$$"
   ]
  },
  {
   "cell_type": "markdown",
   "metadata": {},
   "source": [
    "This form is perfectly valid if the solution is discontinuous, as no spatial derivatives appear. However, we need to show that it is equivalent to the standard conservation law form."
   ]
  },
  {
   "cell_type": "markdown",
   "metadata": {},
   "source": [
    "We know that the standard form only holds when the derivative makes sense. So we will assume that the solution (and hence the flux) is differentiable. We then note that the right hand side of the form above can be written as\n",
    "$$\n",
    "  f(q(x_l)) - f(q(x_r)) = - \\int_{x_l}^{x_r} \\frac{\\textrm{d}}{\\textrm{d}x} f(q) \\, \\textrm{d}x.\n",
    "$$\n",
    "This means we can write the integral form above as\n",
    "$$\n",
    "  \\int_{x_l}^{x_r} \\left( \\partial_t q + \\partial_x f(q) \\right) \\, \\textrm{d}x = 0.\n",
    "$$\n",
    "This only holds if the integrand vanishes, which is the standard conservation law form."
   ]
  },
  {
   "cell_type": "markdown",
   "metadata": {},
   "source": [
    "## Non-uniqueness"
   ]
  },
  {
   "cell_type": "markdown",
   "metadata": {},
   "source": [
    "At first glance this is very simple. It appears that when we write down a conservation law\n",
    "$$\n",
    "  \\partial_t {\\bf q} + \\partial_x {\\bf f}({\\bf q}) = {\\bf 0}\n",
    "$$\n",
    "we really *mean* that we're solving the weak form\n",
    "$$\n",
    "  \\frac{\\textrm{d}}{\\textrm{d}t} \\int_{x_l}^{x_r} {\\bf q} \\, \\textrm{d}x = {\\bf f}({\\bf q}(x_l)) - {\\bf f}({\\bf q}(x_r)).\n",
    "$$\n",
    "With a similar appeal to Gauss' theorem we can extend this to multiple dimensions by considering an arbitrary volume $V$ with boundary $\\partial V$. The weak form\n",
    "$$\n",
    "  \\frac{\\textrm{d}}{\\textrm{d}t} \\int_{V} {\\bf q} \\, \\textrm{d}{\\bf x} = \\oint_{\\partial V} {\\bf f}({\\bf q}) \\cdot \\textrm{d}{\\bf S}\n",
    "$$\n",
    "is then equivalent to the strong conservation law form\n",
    "$$\n",
    "  \\partial_t {\\bf q} + \\nabla \\cdot {\\bf f}({\\bf q}) = {\\bf 0}.\n",
    "$$"
   ]
  },
  {
   "cell_type": "markdown",
   "metadata": {},
   "source": [
    "However, this equivalence is one way only. That is, any weak form is associated with a *unique* strong form. However, any strong form can be associated with *infinitely many* weak forms."
   ]
  },
  {
   "cell_type": "markdown",
   "metadata": {},
   "source": [
    "To see an example of this, consider *Burger's equation*\n",
    "$$\n",
    "  \\partial_t q + \\partial_x \\left( \\tfrac{1}{2} q^2 \\right) = 0.\n",
    "$$\n",
    "If the solution is differentiable then Burger's equation is equivalent to the non-conservation law equation\n",
    "$$\n",
    "  \\partial_t q + q \\partial_x q = 0,\n",
    "$$\n",
    "which is similar to the advection equation.\n",
    "\n",
    "Now consider the equation\n",
    "$$\n",
    "  \\partial_t \\left( \\tfrac{1}{n} q^n \\right) + \\partial_x \\left( \\tfrac{1}{n+1} q^{n+1} \\right) = 0.\n",
    "$$\n",
    "It is clear that, for differentiable solutions, and for *any* $n$ that is not equation to $0, -1$ this equation is equivalent to the non-conservation form of Burger's equation\n",
    "$$\n",
    "  \\partial_t q + q \\partial_x q = 0.\n",
    "$$\n",
    "However, each equation has a different weak form. More importantly, we will show later that each equation has *different behaviour* for discontinuous solutions."
   ]
  },
  {
   "cell_type": "markdown",
   "metadata": {},
   "source": [
    "Therefore we will always assume that the weak solution is the fundamental form. When deriving the system of equations to solve we should always do it using the integral form, from which we can get an associated strong form. When writing the equations we typically use the strong form for convenience, but the primacy of the weak form should remain in the back of your mind."
   ]
  },
  {
   "cell_type": "code",
   "execution_count": 1,
   "metadata": {},
   "outputs": [
    {
     "data": {
      "text/html": [
       "<link href='http://fonts.googleapis.com/css?family=Alegreya+Sans:100,300,400,500,700,800,900,100italic,300italic,400italic,500italic,700italic,800italic,900italic' rel='stylesheet' type='text/css'>\n",
       "<link href='http://fonts.googleapis.com/css?family=Arvo:400,700,400italic' rel='stylesheet' type='text/css'>\n",
       "<link href='http://fonts.googleapis.com/css?family=PT+Mono' rel='stylesheet' type='text/css'>\n",
       "<link href='http://fonts.googleapis.com/css?family=Shadows+Into+Light' rel='stylesheet' type='text/css'>\n",
       "<link href='http://fonts.googleapis.com/css?family=Philosopher:400,700,400italic,700italic' rel='stylesheet' type='text/css'>\n",
       "\n",
       "<style>\n",
       "\n",
       "@font-face {\n",
       "    font-family: \"Computer Modern\";\n",
       "    src: url('http://mirrors.ctan.org/fonts/cm-unicode/fonts/otf/cmunss.otf');\n",
       "}\n",
       "\n",
       "#notebook_panel { /* main background */\n",
       "    background: #888;\n",
       "    color: #f6f6f6;\n",
       "}\n",
       "\n",
       "div #notebook { /* centre the content */\n",
       "    background: #fff;\n",
       "    color: #333;\n",
       "    width: 1200px;\n",
       "    margin: auto;\n",
       "    padding-left: 1em;\n",
       "    padding-right: 1em;\n",
       "    padding-top: 2ex;\n",
       "    overflow-x: auto;\n",
       "}\n",
       "\n",
       "#notebook li { /* More space between bullet points */\n",
       "margin-top:0.8em;\n",
       "}\n",
       "\n",
       "div.cell { /* set cell width to about 80 chars */\n",
       "    width: 900px;\n",
       "}\n",
       "\n",
       "div.cell.border-box-sizing.code_cell.running { \n",
       "    /* draw border around running cells */\n",
       "    border: 3px solid #111;\n",
       "}\n",
       "\n",
       "\n",
       "h1 {\n",
       "    font-family: 'Philosopher', sans-serif;\n",
       "}\n",
       "h2 {\n",
       "    font-family: 'Philosopher', serif;\n",
       "}\n",
       "h3{\n",
       "    font-family: 'Philosopher', serif;\n",
       "    font-style: 'italic';\n",
       "    margin-top:12px;\n",
       "    margin-bottom: 3px;\n",
       "}\n",
       "h4{\n",
       "    font-family: 'Philosopher', serif;\n",
       "}\n",
       "h5 {\n",
       "    font-family: 'Alegreya Sans', sans-serif;\n",
       "}\t\n",
       "h6 {\n",
       "    font-family: 'PT Mono', sans-serif;\n",
       "}\t\n",
       "\n",
       "div.text_cell_render{\n",
       "    font-family: 'Arvo' sans-serif;\n",
       "    line-height: 130%;\n",
       "    font-size: 115%;\n",
       "    width:800px;\n",
       "    margin-left:auto;\n",
       "    margin-right:auto;\n",
       "}\n",
       "\n",
       ".CodeMirror{\n",
       "        font-family: \"PT Mono\";\n",
       "                    font-size: 100%;\n",
       "            }\n",
       "\n",
       ".text_cell_render h1 {\n",
       "    font-weight: 400;\n",
       "    font-size: 64pt;\n",
       "    line-height: 100%;\n",
       "    color: rgb(12,85,97);\n",
       "    margin-bottom: 0.1em;\n",
       "    margin-top: 0.1em;\n",
       "    display: block;\n",
       "}\t\n",
       ".text_cell_render h2 {\n",
       "    font-weight: 700;\n",
       "    font-size: 24pt;\n",
       "    line-height: 100%;\n",
       "    color: rgb(171,165,131);\n",
       "    margin-bottom: 0.1em;\n",
       "    margin-top: 0.1em;\n",
       "    display: block;\n",
       "}\t\n",
       "\n",
       ".text_cell_render h3 {\n",
       "    font-style: italic;\n",
       "    color: rgb(95,92,72);\n",
       "}\n",
       "\n",
       ".text_cell_render h5 {\n",
       "    font-weight: 300;\n",
       "    font-size: 16pt;\n",
       "    color: grey;\n",
       "    font-style: italic;\n",
       "    margin-bottom: .1em;\n",
       "    margin-top: 0.1em;\n",
       "    display: block;\n",
       "}\n",
       "\n",
       ".text_cell_render h6 {\n",
       "    font-weight: 300;\n",
       "    font-size: 10pt;\n",
       "    color: grey;\n",
       "    margin-bottom: 1px;\n",
       "    margin-top: 1px;\n",
       "}\n",
       "div.cell.code_cell {  /* Group area containing both code and output */\n",
       "background-color: rgba(171,165,131,0.3); \n",
       "border-radius: 10px; /* rounded borders */\n",
       "padding: 1em;\n",
       "}\n",
       "\n",
       "</style>\n",
       "\n",
       "<script type=\"text/x-mathjax-config\">\n",
       "    MathJax.Hub.Config({\n",
       "                        TeX: {\n",
       "                           extensions: [\"AMSmath.js\"],\n",
       "                           Macros: {N : \"\\\\mathbb{N}\"}\n",
       "                           },\n",
       "                tex2jax: {\n",
       "                    inlineMath: [ ['$','$'], [\"\\\\(\",\"\\\\)\"] ],\n",
       "                    displayMath: [ ['$$','$$'], [\"\\\\[\",\"\\\\]\"] ]\n",
       "                },\n",
       "                displayAlign: 'center', // Change this to 'center' to center equations.\n",
       "                \"HTML-CSS\": {\n",
       "                    styles: {'.MathJax_Display': {margin: \"40em 40em 40em 40em\",line-height : '200%', border: '1px solid ##CC0000' } },\n",
       "                    linebreaks: {'automatic': 'true'}\n",
       "                }\n",
       "        });\n",
       "</script>\n"
      ],
      "text/plain": [
       "<IPython.core.display.HTML object>"
      ]
     },
     "execution_count": 1,
     "metadata": {},
     "output_type": "execute_result"
    }
   ],
   "source": [
    "from IPython.core.display import HTML\n",
    "def css_styling():\n",
    "    styles = open(\"./styles/custom.css\", \"r\").read()\n",
    "    return HTML(styles)\n",
    "css_styling()"
   ]
  }
 ],
 "metadata": {
  "kernelspec": {
   "display_name": "Python 3",
   "language": "python",
   "name": "python3"
  },
  "language_info": {
   "codemirror_mode": {
    "name": "ipython",
    "version": 3
   },
   "file_extension": ".py",
   "mimetype": "text/x-python",
   "name": "python",
   "nbconvert_exporter": "python",
   "pygments_lexer": "ipython3",
   "version": "3.6.4"
  }
 },
 "nbformat": 4,
 "nbformat_minor": 1
}
